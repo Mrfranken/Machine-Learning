{
 "cells": [
  {
   "cell_type": "markdown",
   "metadata": {
    "slideshow": {
     "slide_type": "slide"
    }
   },
   "source": [
    "## [朴素贝叶斯基础篇](https://blog.csdn.net/c406495762/article/details/77341116)\n",
    "![pic](https://img-blog.csdn.net/20170817202900118?watermark/2/text/aHR0cDovL2Jsb2cuY3Nkbi5uZXQvYzQwNjQ5NTc2Mg==/font/5a6L5L2T/fontsize/400/fill/I0JBQkFCMA==/dissolve/70/gravity/SouthEast)"
   ]
  },
  {
   "cell_type": "code",
   "execution_count": 13,
   "metadata": {
    "collapsed": true,
    "slideshow": {
     "slide_type": "skip"
    }
   },
   "outputs": [],
   "source": [
    "import re\n",
    "import numpy as np"
   ]
  },
  {
   "cell_type": "code",
   "execution_count": 14,
   "metadata": {
    "collapsed": true,
    "slideshow": {
     "slide_type": "slide"
    }
   },
   "outputs": [],
   "source": [
    "def create_vocab_list(dataset):\n",
    "    vocab_set = set([])\n",
    "    for doc in dataset:\n",
    "        vocab_set = vocab_set | set(doc)\n",
    "    return list(vocab_set)"
   ]
  },
  {
   "cell_type": "code",
   "execution_count": 15,
   "metadata": {
    "collapsed": true,
    "slideshow": {
     "slide_type": "fragment"
    }
   },
   "outputs": [],
   "source": [
    "def parse_text(file_path):\n",
    "    contents = open(file_path).read()\n",
    "    return [word.lower() for word in re.split(r'\\W*', contents) if len(word) > 2]"
   ]
  },
  {
   "cell_type": "code",
   "execution_count": 16,
   "metadata": {
    "collapsed": false,
    "slideshow": {
     "slide_type": "fragment"
    }
   },
   "outputs": [],
   "source": [
    "wordList = []\n",
    "classList = []\n",
    "for i in range(1, 26): #读取数据\n",
    "    wordList.append(parse_text('email/spam/{}.txt'.format(i)))\n",
    "    classList.append(1)\n",
    "    wordList.append(parse_text('email/ham/{}.txt'.format(i)))\n",
    "    classList.append(0)\n",
    "all_words_list = create_vocab_list(wordList)"
   ]
  },
  {
   "cell_type": "code",
   "execution_count": 17,
   "metadata": {
    "collapsed": true,
    "slideshow": {
     "slide_type": "fragment"
    }
   },
   "outputs": [
    {
     "name": "stdout",
     "output_type": "stream",
     "text": [
      "[['codeine', '15mg', 'for', '203', 'visa', 'only', 'codeine', 'methylmorphine', 'narcotic', 'opioid', 'pain', 'reliever', 'have', '15mg', '30mg', 'pills', '15mg', 'for', '203', '15mg', 'for', '385', '15mg', 'for', '562', 'visa', 'only'], ['peter', 'with', 'jose', 'out', 'town', 'you', 'want', 'meet', 'once', 'while', 'keep', 'things', 'going', 'and', 'some', 'interesting', 'stuff', 'let', 'know', 'eugene'], ['hydrocodone', 'vicodin', 'brand', 'watson', 'vicodin', '750', '195', '120', '570', 'brand', 'watson', '750', '195', '120', '570', 'brand', 'watson', '325', '199', '120', '588', 'noprescription', 'required', 'free', 'express', 'fedex', 'days', 'delivery', 'for', 'over', '200', 'order', 'major', 'credit', 'cards', 'check'], ['yay', 'you', 'both', 'doing', 'fine', 'working', 'mba', 'design', 'strategy', 'cca', 'top', 'art', 'school', 'new', 'program', 'focusing', 'more', 'right', 'brained', 'creative', 'and', 'strategic', 'approach', 'management', 'the', 'way', 'done', 'today'], ['you', 'have', 'everything', 'gain', 'incredib1e', 'gains', 'length', 'inches', 'yourpenis', 'permanantly', 'amazing', 'increase', 'thickness', 'yourpenis', 'betterejacu1ation', 'control', 'experience', 'rock', 'harderecetions', 'explosive', 'intenseorgasns', 'increase', 'volume', 'ofejacu1ate', 'doctor', 'designed', 'and', 'endorsed', '100', 'herbal', '100', 'natural', '100', 'safe', 'the', 'proven', 'naturalpenisenhancement', 'that', 'works', '100', 'moneyback', 'guaranteeed'], ['what', 'going', 'there', 'talked', 'john', 'email', 'talked', 'about', 'some', 'computer', 'stuff', 'that', 'went', 'bike', 'riding', 'the', 'rain', 'was', 'not', 'that', 'cold', 'went', 'the', 'museum', 'yesterday', 'was', 'get', 'and', 'they', 'had', 'free', 'food', 'the', 'same', 'time', 'was', 'giants', 'game', 'when', 'got', 'done', 'had', 'take', 'the', 'train', 'with', 'all', 'the', 'giants', 'fans', 'they', 'are', 'drunk'], ['percocet', '625', 'withoutprescription', 'tabs', '225', 'percocet', 'narcotic', 'analgesic', 'used', 'treat', 'moderate', 'moderately', 'severepain', 'top', 'quality', 'express', 'shipping', '100', 'safe', 'discreet', 'private', 'buy', 'cheap', 'percocet', 'online'], ['been', 'working', 'running', 'website', 'using', 'jquery', 'and', 'the', 'jqplot', 'plugin', 'not', 'too', 'far', 'away', 'from', 'having', 'prototype', 'launch', 'you', 'used', 'jqplot', 'right', 'not', 'think', 'you', 'would', 'like'], ['codeine', '15mg', 'for', '203', 'visa', 'only', 'codeine', 'methylmorphine', 'narcotic', 'opioid', 'pain', 'reliever', 'have', '15mg', '30mg', 'pills', '15mg', 'for', '203', '15mg', 'for', '385', '15mg', 'for', '562', 'visa', 'only'], ['there', 'was', 'guy', 'the', 'gas', 'station', 'who', 'told', 'that', 'knew', 'mandarin', 'and', 'python', 'could', 'get', 'job', 'with', 'the', 'fbi'], ['oem', 'adobe', 'microsoft', 'softwares', 'fast', 'order', 'and', 'download', 'microsoft', 'office', 'professional', 'plus', '2007', '2010', '129', 'microsoft', 'windows', 'ultimate', '119', 'adobe', 'photoshop', 'cs5', 'extended', 'adobe', 'acrobat', 'pro', 'extended', 'windows', 'professional', 'thousand', 'more', 'titles'], ['hello', 'since', 'you', 'are', 'owner', 'least', 'one', 'google', 'groups', 'group', 'that', 'uses', 'the', 'customized', 'welcome', 'message', 'pages', 'files', 'are', 'writing', 'inform', 'you', 'that', 'will', 'longer', 'supporting', 'these', 'features', 'starting', 'february', '2011', 'made', 'this', 'decision', 'that', 'can', 'focus', 'improving', 'the', 'core', 'functionalities', 'google', 'groups', 'mailing', 'lists', 'and', 'forum', 'discussions', 'instead', 'these', 'features', 'encourage', 'you', 'use', 'products', 'that', 'are', 'designed', 'specifically', 'for', 'file', 'storage', 'and', 'page', 'creation', 'such', 'google', 'docs', 'and', 'google', 'sites', 'for', 'example', 'you', 'can', 'easily', 'create', 'your', 'pages', 'google', 'sites', 'and', 'share', 'the', 'site', 'http', 'www', 'google', 'com', 'support', 'sites', 'bin', 'answer', 'answer', '174623', 'with', 'the', 'members', 'your', 'group', 'you', 'can', 'also', 'store', 'your', 'files', 'the', 'site', 'attaching', 'files', 'pages', 'http', 'www', 'google', 'com', 'support', 'sites', 'bin', 'answer', 'answer', '90563', 'the', 'site', 'you', 'just', 'looking', 'for', 'place', 'upload', 'your', 'files', 'that', 'your', 'group', 'members', 'can', 'download', 'them', 'suggest', 'you', 'try', 'google', 'docs', 'you', 'can', 'upload', 'files', 'http', 'docs', 'google', 'com', 'support', 'bin', 'answer', 'answer', '50092', 'and', 'share', 'access', 'with', 'either', 'group', 'http', 'docs', 'google', 'com', 'support', 'bin', 'answer', 'answer', '66343', 'individual', 'http', 'docs', 'google', 'com', 'support', 'bin', 'answer', 'answer', '86152', 'assigning', 'either', 'edit', 'download', 'only', 'access', 'the', 'files', 'you', 'have', 'received', 'this', 'mandatory', 'email', 'service', 'announcement', 'update', 'you', 'about', 'important', 'changes', 'google', 'groups'], ['bargains', 'here', 'buy', 'phentermin', 'buy', 'genuine', 'phentermin', 'low', 'cost', 'visa', 'accepted', '130', '219', '292', '120', '366', '180', '513'], ['zach', 'hamm', 'commented', 'your', 'status', 'zach', 'wrote', 'doggy', 'style', 'enough', 'said', 'thank', 'you', 'good', 'night'], ['you', 'have', 'everything', 'gain', 'incredib1e', 'gains', 'length', 'inches', 'yourpenis', 'permanantly', 'amazing', 'increase', 'thickness', 'yourpenis', 'betterejacu1ation', 'control', 'experience', 'rock', 'harderecetions', 'explosive', 'intenseorgasns', 'increase', 'volume', 'ofejacu1ate', 'doctor', 'designed', 'and', 'endorsed', '100', 'herbal', '100', 'natural', '100', 'safe'], ['this', 'mail', 'was', 'sent', 'from', 'notification', 'only', 'address', 'that', 'cannot', 'accept', 'incoming', 'mail', 'please', 'not', 'reply', 'this', 'message', 'thank', 'you', 'for', 'your', 'online', 'reservation', 'the', 'store', 'you', 'selected', 'has', 'located', 'the', 'item', 'you', 'requested', 'and', 'has', 'placed', 'hold', 'your', 'name', 'please', 'note', 'that', 'all', 'items', 'are', 'held', 'for', 'day', 'please', 'note', 'store', 'prices', 'may', 'differ', 'from', 'those', 'online', 'you', 'have', 'questions', 'need', 'assistance', 'with', 'your', 'reservation', 'please', 'contact', 'the', 'store', 'the', 'phone', 'number', 'listed', 'below', 'you', 'can', 'also', 'access', 'store', 'information', 'such', 'store', 'hours', 'and', 'location', 'the', 'web', 'http', 'www', 'borders', 'com', 'online', 'store', 'storedetailview_98'], ['bargains', 'here', 'buy', 'phentermin', 'buy', 'genuine', 'phentermin', 'low', 'cost', 'visa', 'accepted', '130', '219', '292', '120', '366', '180', '513'], ['peter', 'these', 'are', 'the', 'only', 'good', 'scenic', 'ones', 'and', 'too', 'bad', 'there', 'was', 'girl', 'back', 'one', 'them', 'just', 'try', 'enjoy', 'the', 'blue', 'sky'], ['ordercializviagra', 'online', 'save', '0nline', 'pharmacy', 'noprescription', 'required', 'buy', 'canadian', 'drugs', 'wholesale', 'prices', 'and', 'save', 'fda', 'approved', 'drugs', 'superb', 'quality', 'drugs', 'only', 'accept', 'all', 'major', 'credit', 'cards'], ['ryan', 'whybrew', 'commented', 'your', 'status', 'ryan', 'wrote', 'turd', 'ferguson', 'butt', 'horn'], ['you', 'have', 'everything', 'gain', 'incredib1e', 'gains', 'length', 'inches', 'yourpenis', 'permanantly', 'amazing', 'increase', 'thickness', 'yourpenis', 'betterejacu1ation', 'control', 'experience', 'rock', 'harderecetions', 'explosive', 'intenseorgasns', 'increase', 'volume', 'ofejacu1ate', 'doctor', 'designed', 'and', 'endorsed', '100', 'herbal', '100', 'natural', '100', 'safe', 'the', 'proven', 'naturalpenisenhancement', 'that', 'works', '100', 'moneyback', 'guaranteeed'], ['arvind', 'thirumalai', 'commented', 'your', 'status', 'arvind', 'wrote', 'you', 'know', 'reply', 'this', 'email', 'comment', 'this', 'status'], ['buy', 'ambiem', 'zolpidem', '5mg', '10mg', 'pill', 'pills', '129', 'pills', '199', '180', 'pills', '430', 'pills', '138', '120', 'pills', '322'], ['thanks', 'peter', 'definitely', 'check', 'this', 'how', 'your', 'book', 'going', 'heard', 'chapter', 'came', 'and', 'was', 'good', 'shape', 'hope', 'you', 'are', 'doing', 'well', 'cheers', 'troy'], ['ordercializviagra', 'online', 'save', '0nline', 'pharmacy', 'noprescription', 'required', 'buy', 'canadian', 'drugs', 'wholesale', 'prices', 'and', 'save', 'fda', 'approved', 'drugs', 'superb', 'quality', 'drugs', 'only', 'accept', 'all', 'major', 'credit', 'cards', 'order', 'today', 'from'], ['jay', 'stepp', 'commented', 'your', 'status', 'jay', 'wrote', 'the', 'reply', 'this', 'email', 'comment', 'this', 'status', 'see', 'the', 'comment', 'thread', 'follow', 'the', 'link', 'below'], ['buyviagra', '25mg', '50mg', '100mg', 'brandviagra', 'femaleviagra', 'from', 'per', 'pill', 'viagranoprescription', 'needed', 'from', 'certified', 'canadian', 'pharmacy', 'buy', 'here', 'accept', 'visa', 'amex', 'check', 'worldwide', 'delivery'], ['linkedin', 'kerry', 'haloney', 'requested', 'add', 'you', 'connection', 'linkedin', 'peter', 'like', 'add', 'you', 'professional', 'network', 'linkedin', 'kerry', 'haloney'], ['you', 'have', 'everything', 'gain', 'incredib1e', 'gains', 'length', 'inches', 'yourpenis', 'permanantly', 'amazing', 'increase', 'thickness', 'yourpenis', 'betterejacu1ation', 'control', 'experience', 'rock', 'harderecetions', 'explosive', 'intenseorgasns', 'increase', 'volume', 'ofejacu1ate', 'doctor', 'designed', 'and', 'endorsed', '100', 'herbal', '100', 'natural', '100', 'safe'], ['peter', 'the', 'hotels', 'are', 'the', 'ones', 'that', 'rent', 'out', 'the', 'tent', 'they', 'are', 'all', 'lined', 'the', 'hotel', 'grounds', 'much', 'for', 'being', 'one', 'with', 'nature', 'more', 'like', 'being', 'one', 'with', 'couple', 'dozen', 'tour', 'groups', 'and', 'nature', 'have', 'about', '100m', 'pictures', 'from', 'that', 'trip', 'can', 'through', 'them', 'and', 'get', 'you', 'jpgs', 'favorite', 'scenic', 'pictures', 'where', 'are', 'you', 'and', 'jocelyn', 'now', 'new', 'york', 'will', 'you', 'come', 'tokyo', 'for', 'chinese', 'new', 'year', 'perhaps', 'see', 'the', 'two', 'you', 'then', 'will', 'thailand', 'for', 'winter', 'holiday', 'see', 'mom', 'take', 'care'], ['you', 'have', 'everything', 'gain', 'incredib1e', 'gains', 'length', 'inches', 'yourpenis', 'permanantly', 'amazing', 'increase', 'thickness', 'yourpenis', 'betterejacu1ation', 'control', 'experience', 'rock', 'harderecetions', 'explosive', 'intenseorgasns', 'increase', 'volume', 'ofejacu1ate', 'doctor', 'designed', 'and', 'endorsed', '100', 'herbal', '100', 'natural', '100', 'safe'], ['yeah', 'ready', 'may', 'not', 'here', 'because', 'jar', 'jar', 'has', 'plane', 'tickets', 'germany', 'for'], ['home', 'based', 'business', 'opportunity', 'knocking', 'your', 'door', 'don', 'rude', 'and', 'let', 'this', 'chance', 'you', 'can', 'earn', 'great', 'income', 'and', 'find', 'your', 'financial', 'life', 'transformed', 'learn', 'more', 'here', 'your', 'success', 'work', 'from', 'home', 'finder', 'experts'], ['benoit', 'mandelbrot', '1924', '2010', 'benoit', 'mandelbrot', '1924', '2010', 'wilmott', 'team', 'benoit', 'mandelbrot', 'the', 'mathematician', 'the', 'father', 'fractal', 'mathematics', 'and', 'advocate', 'more', 'sophisticated', 'modelling', 'quantitative', 'finance', 'died', '14th', 'october', '2010', 'aged', 'wilmott', 'magazine', 'has', 'often', 'featured', 'mandelbrot', 'his', 'ideas', 'and', 'the', 'work', 'others', 'inspired', 'his', 'fundamental', 'insights', 'you', 'must', 'logged', 'view', 'these', 'articles', 'from', 'past', 'issues', 'wilmott', 'magazine'], ['codeine', 'the', 'most', 'competitive', 'price', 'net', 'codeine', 'wilson', '30mg', '156', 'codeine', 'wilson', '30mg', '291', 'freeviagra', 'pills', 'codeine', 'wilson', '30mg', '396', 'freeviagra', 'pills', 'codeine', 'wilson', '30mg', '120', '492', 'freeviagra', 'pills'], ['peter', 'sure', 'thing', 'sounds', 'good', 'let', 'know', 'what', 'time', 'would', 'good', 'for', 'you', 'will', 'come', 'prepared', 'with', 'some', 'ideas', 'and', 'can', 'from', 'there', 'regards', 'vivek'], ['get', 'off', 'online', 'watchesstore', 'discount', 'watches', 'for', 'all', 'famous', 'brands', 'watches', 'arolexbvlgari', 'dior', 'hermes', 'oris', 'cartier', 'and', 'more', 'brands', 'louis', 'vuitton', 'bags', 'wallets', 'gucci', 'bags', 'tiffany', 'jewerly', 'enjoy', 'full', 'year', 'warranty', 'shipment', 'via', 'reputable', 'courier', 'fedex', 'ups', 'dhl', 'and', 'ems', 'speedpost', 'you', 'will', '100', 'recieve', 'your', 'order', 'save', 'off', 'quality', 'watches'], ['linkedin', 'julius', 'requested', 'add', 'you', 'connection', 'linkedin', 'peter', 'looking', 'forward', 'the', 'book', 'accept', 'view', 'invitation', 'from', 'julius'], ['get', 'off', 'online', 'watchesstore', 'discount', 'watches', 'for', 'all', 'famous', 'brands', 'watches', 'arolexbvlgari', 'dior', 'hermes', 'oris', 'cartier', 'and', 'more', 'brands', 'louis', 'vuitton', 'bags', 'wallets', 'gucci', 'bags', 'tiffany', 'jewerly', 'enjoy', 'full', 'year', 'warranty', 'shipment', 'via', 'reputable', 'courier', 'fedex', 'ups', 'dhl', 'and', 'ems', 'speedpost', 'you', 'will', '100', 'recieve', 'your', 'order'], ['thought', 'about', 'this', 'and', 'think', 'possible', 'should', 'get', 'another', 'lunch', 'have', 'car', 'now', 'and', 'could', 'come', 'pick', 'you', 'this', 'time', 'does', 'this', 'wednesday', 'work', 'can', 'have', 'signed', 'copy', 'you', 'book'], ['percocet', '625', 'withoutprescription', 'tabs', '225', 'percocet', 'narcotic', 'analgesic', 'used', 'treat', 'moderate', 'moderately', 'severepain', 'top', 'quality', 'express', 'shipping', '100', 'safe', 'discreet', 'private', 'buy', 'cheap', 'percocet', 'online'], ['saw', 'this', 'the', 'way', 'the', 'coast', 'thought', 'might', 'like', 'hangzhou', 'huge', 'one', 'day', 'wasn', 'enough', 'but', 'got', 'glimpse', 'went', 'inside', 'the', 'china', 'pavilion', 'expo', 'pretty', 'interesting', 'each', 'province', 'has', 'exhibit'], ['get', 'off', 'online', 'watchesstore', 'discount', 'watches', 'for', 'all', 'famous', 'brands', 'watches', 'arolexbvlgari', 'dior', 'hermes', 'oris', 'cartier', 'and', 'more', 'brands', 'louis', 'vuitton', 'bags', 'wallets', 'gucci', 'bags', 'tiffany', 'jewerly', 'enjoy', 'full', 'year', 'warranty', 'shipment', 'via', 'reputable', 'courier', 'fedex', 'ups', 'dhl', 'and', 'ems', 'speedpost', 'you', 'will', '100', 'recieve', 'your', 'order'], ['hommies', 'just', 'got', 'phone', 'call', 'from', 'the', 'roofer', 'they', 'will', 'come', 'and', 'spaying', 'the', 'foaming', 'today', 'will', 'dusty', 'pls', 'close', 'all', 'the', 'doors', 'and', 'windows', 'could', 'you', 'help', 'close', 'bathroom', 'window', 'cat', 'window', 'and', 'the', 'sliding', 'door', 'behind', 'the', 'don', 'know', 'how', 'can', 'those', 'cats', 'survive', 'sorry', 'for', 'any', 'inconvenience'], ['you', 'have', 'everything', 'gain', 'incredib1e', 'gains', 'length', 'inches', 'yourpenis', 'permanantly', 'amazing', 'increase', 'thickness', 'yourpenis', 'betterejacu1ation', 'control', 'experience', 'rock', 'harderecetions', 'explosive', 'intenseorgasns', 'increase', 'volume', 'ofejacu1ate', 'doctor', 'designed', 'and', 'endorsed', '100', 'herbal', '100', 'natural', '100', 'safe'], ['scifinance', 'now', 'automatically', 'generates', 'gpu', 'enabled', 'pricing', 'risk', 'model', 'source', 'code', 'that', 'runs', '300x', 'faster', 'than', 'serial', 'code', 'using', 'new', 'nvidia', 'fermi', 'class', 'tesla', 'series', 'gpu', 'scifinance', 'derivatives', 'pricing', 'and', 'risk', 'model', 'development', 'tool', 'that', 'automatically', 'generates', 'and', 'gpu', 'enabled', 'source', 'code', 'from', 'concise', 'high', 'level', 'model', 'specifications', 'parallel', 'computing', 'cuda', 'programming', 'expertise', 'required', 'scifinance', 'automatic', 'gpu', 'enabled', 'monte', 'carlo', 'pricing', 'model', 'source', 'code', 'generation', 'capabilities', 'have', 'been', 'significantly', 'extended', 'the', 'latest', 'release', 'this', 'includes'], ['you', 'have', 'everything', 'gain', 'incredib1e', 'gains', 'length', 'inches', 'yourpenis', 'permanantly', 'amazing', 'increase', 'thickness', 'yourpenis', 'betterejacu1ation', 'control', 'experience', 'rock', 'harderecetions', 'explosive', 'intenseorgasns', 'increase', 'volume', 'ofejacu1ate', 'doctor', 'designed', 'and', 'endorsed', '100', 'herbal', '100', 'natural', '100', 'safe'], ['will', 'there', 'the', 'latest'], ['experience', 'with', 'biggerpenis', 'today', 'grow', 'inches', 'more', 'the', 'safest', 'most', 'effective', 'methods', 'of_penisen1argement', 'save', 'your', 'time', 'and', 'money', 'bettererections', 'with', 'effective', 'ma1eenhancement', 'products', 'ma1eenhancement', 'supplement', 'trusted', 'millions', 'buy', 'today'], ['that', 'cold', 'there', 'going', 'retirement', 'party', 'are', 'the', 'leaves', 'changing', 'color']]\n"
     ]
    }
   ],
   "source": [
    "print wordList"
   ]
  },
  {
   "cell_type": "code",
   "execution_count": 18,
   "metadata": {
    "collapsed": true,
    "slideshow": {
     "slide_type": "fragment"
    }
   },
   "outputs": [
    {
     "name": "stdout",
     "output_type": "stream",
     "text": [
      "['all', 'code', 'chinese', 'focus', 'narcotic', 'supplement', 'follow', '14th', 'issues', 'increase', 'glimpse', 'foaming', 'father', 'program', 'sorry', 'insights', 'sent', '50mg', 'risk', 'far', 'of_penisen1argement', 'wallets', 'fractal', 'tickets', 'school', 'doggy', 'level', 'louis', 'having', 'upload', 'ryan', 'try', 'item', 'team', 'guy', '292', 'commented', '291', 'enjoy', 'advocate', 'talked', '199', 'concise', '195', 'horn', 'past', 'titles', 'design', 'download', 'carlo', 'blue', 'what', 'assistance', 'selected', 'while', '0nline', 'thickness', 'access', 'reply', 'net', 'viagranoprescription', 'told', 'supporting', 'full', 'zach', 'here', 'hours', 'let', 'free', 'groups', 'address', '100', 'softwares', 'great', 'incoming', 'forum', 'canadian', 'dusty', 'items', 'inspired', 'experience', 'credit', 'products', 'severepain', 'pick', 'changes', '430', 'via', 'private', 'creative', 'arolexbvlgari', 'support', 'fbi', 'hotels', 'derivatives', 'use', 'from', 'would', 'yourpenis', 'two', 'bike', 'call', 'survive', 'today', 'more', 'chapter', 'kerry', 'pretty', 'ofejacu1ate', 'moneyback', 'phone', 'train', 'dior', 'hold', 'must', 'town', 'tokyo', 'this', 'car', 'work', 'cat', 'can', 'learn', 'meet', 'example', 'control', 'share', 'accept', 'high', 'heard', 'want', 'serial', 'keep', 'information', 'winter', 'ma1eenhancement', 'located', 'amazing', 'answer', 'instead', 'cuda', 'monte', 'rude', 'huge', 'may', 'plane', 'designed', 'improving', 'such', '50092', 'natural', 'effective', 'inform', 'cannot', 'ultimate', 'fundamental', 'nvidia', 'cs5', 'lined', 'thirumalai', 'order', 'harderecetions', 'photoshop', 'help', 'office', 'over', 'logged', 'held', '130', 'through', 'cold', '138', '492', 'style', 'group', 'thank', 'how', 'brained', 'interesting', 'writing', 'window', 'mail', 'holiday', '2011', '2010', 'eugene', 'then', 'them', 'good', 'finance', 'food', 'docs', 'safe', 'runs', 'lunch', 'ferguson', 'they', 'not', 'guaranteeed', 'now', 'day', 'articles', 'february', 'name', 'permanantly', 'scenic', 'phentermin', 'rock', 'went', 'development', 'adobe', 'significantly', 'doing', 'series', 'tiffany', 'yeah', 'wednesday', 'each', 'used', '396', 'year', 'girl', 'pills', 'out', '100m', 'network', 'since', 'hangzhou', 'looking', 'specifications', 'encourage', 'shipment', 'got', 'sliding', 'model', '588', 'york', 'members', 'hermes', 'acrobat', 'certified', 'care', 'thread', 'launch', 'automatic', 'could', 'programming', 'days', '10mg', 'thing', 'length', 'place', 'invitation', '513', 'turd', 'think', 'major', 'features', '625', 'knocking', 'number', 'one', 'featured', 'done', 'specifically', 'another', 'wasn', 'owner', 'art', 'message', 'quality', 'millions', 'differ', 'management', 'service', 'top', 'moderately', 'least', 'parallel', 'needed', '180', 'station', 'listed', 'analgesic', 'gpu', 'john', 'store', 'too', 'hommies', 'courier', 'that', 'tool', 'hotel', 'lists', 'forward', 'regards', 'butt', 'focusing', 'copy', 'than', 'reliever', 'jquery', 'enabled', '5mg', 'cost', 'expo', 'cards', 'and', 'tabs', 'codeine', 'pro', 'buy', 'rent', 'have', 'need', 'aged', 'saw', 'any', 'wilmott', 'wilson', 'genuine', 'storage', 'ideas', 'note', 'also', 'take', 'doors', '325', 'brand', 'worldwide', '200', '203', 'sure', 'pain', 'price', 'who', 'watchesstore', 'most', 'visa', 'germany', 'pages', 'delivery', 'don', 'windows', '66343', 'definitely', 'professional', 'mailing', 'microsoft', 'came', 'gain', 'speedpost', 'edit', 'cheap', 'troy', '25mg', 'fine', 'find', 'based', 'jay', 'jar', 'enough', 'should', 'only', 'going', 'arvind', 'riding', 'hope', 'giants', 'his', 'gains', 'get', 'express', 'coast', '120', 'famous', 'watson', 'ones', 'new', '129', 'earn', 'freeviagra', 'biggerpenis', 'bad', 'stuff', 'ems', 'release', 'where', 'inside', 'wrote', 'view', 'mandatory', '174623', 'recieve', 'see', 'computer', '1924', 'are', 'discussions', 'close', 'said', 'jqplot', 'pictures', 'away', 'please', 'sites', 'superb', 'whybrew', 'fans', 'mandarin', '366', 'approach', 'email', 'tent', 'explosive', 'bargains', 'nature', 'amex', 'job', '385', 'come', 'both', 'plugin', 'jocelyn', 'haloney', 'connection', 'china', 'com', 'grounds', 'comment', 'exhibit', 'methylmorphine', 'drunk', 'color', 'sky', '570', '100mg', 'noprescription', '30mg', 'bathroom', 'yay', 'roofer', 'create', 'computing', 'been', 'strategy', 'attaching', 'much', 'treat', 'borders', 'prototype', '15mg', 'website', 'life', 'received', 'drugs', 'thousand', 'gas', 'modelling', 'proven', 'prices', 'assigning', '300x', 'those', 'has', 'these', 'might', 'will', 'gucci', '90563', 'expertise', 'leaves', 'julius', '322', 'femaleviagra', 'site', 'linkedin', 'jpgs', 'hydrocodone', 'experts', 'ready', 'trusted', 'bags', 'dhl', 'doctor', 'perhaps', 'suggest', 'tour', 'same', 'trip', 'python', 'party', 'web', 'dozen', 'status', 'extended', 'http', 'yesterday', 'rain', 'cheers', 'running', 'uses', 'changing', 'opportunity', 'incredib1e', 'off', 'functionalities', 'well', 'customized', 'thought', 'contact', 'quantitative', 'the', 'cca', 'latest', 'things', 'just', 'scifinance', 'being', 'money', 'mandelbrot', 'competitive', '219', 'shape', 'reputable', 'thanks', 'questions', 'behind', 'october', 'jose', 'retirement', 'had', 'capabilities', 'pharmacy', 'source', 'add', 'transformed', 'location', 'grow', 'save', 'pill', 'finder', 'bin', 'oris', 'easily', 'ambiem', 'couple', 'online', 'possible', 'vivek', 'game', 'discreet', 'know', 'mom', 'using', 'accepted', 'like', 'naturalpenisenhancement', 'success', 'ordercializviagra', 'safest', 'mathematician', 'either', 'night', 'brandviagra', 'works', 'endorsed', 'page', 'opioid', 'province', 'www', 'because', 'methods', 'creation', 'some', 'back', 'storedetailview_98', 'pricing', 'home', 'peter', 'ups', 'withoutprescription', 'strategic', 'faster', 'for', 'notification', 'decision', '86152', 'per', 'fedex', 'everything', 'does', 'moderate', 'core', 'inconvenience', 'pls', 'business', 'stepp', 'discount', 'oem', 'thailand', 'includes', 'vuitton', 'about', 'working', 'favorite', 'shipping', 'magazine', 'plus', 'cartier', 'intenseorgasns', 'automatically', 'warranty', 'mba', 'google', 'financial', 'your', 'often', 'betterejacu1ation', 'museum', 'there', 'fast', 'approved', 'generation', 'cats', 'low', 'way', 'zolpidem', 'herbal', 'was', 'files', '750', 'inches', '562', 'but', 'sophisticated', 'volume', 'link', 'announcement', '225', 'with', 'bettererections', 'fda', 'made', 'pavilion', 'wholesale', 'sounds', 'percocet', 'signed', 'placed', 'below', 'fermi', 'spaying', '156', 'tesla', 'watches', 'right', 'file', 'door', 'hamm', 'check', '119', 'benoit', 'when', 'longer', 'book', 'vicodin', 'income', 'mathematics', 'you', 'requested', 'generates', 'knew', 'class', 'welcome', 'update', 'prepared', 'chance', 'important', 'brands', 'reservation', 'died', 'individual', 'jewerly', 'required', 'buyviagra', '2007', 'time', 'starting', 'hello', 'others', 'once']\n"
     ]
    }
   ],
   "source": [
    "print all_words_list"
   ]
  },
  {
   "cell_type": "markdown",
   "metadata": {
    "slideshow": {
     "slide_type": "slide"
    }
   },
   "source": [
    "### 提取训练集"
   ]
  },
  {
   "cell_type": "code",
   "execution_count": 28,
   "metadata": {
    "collapsed": true,
    "slideshow": {
     "slide_type": "subslide"
    }
   },
   "outputs": [],
   "source": [
    "def bag_of_words_to_vec(vocab_list, input_set):\n",
    "    return_vec = list(np.zeros(len(vocab_list)))\n",
    "    for word in input_set:\n",
    "        if word in vocab_list:\n",
    "            return_vec[vocab_list.index(word)] += 1\n",
    "    return return_vec"
   ]
  },
  {
   "cell_type": "code",
   "execution_count": 29,
   "metadata": {
    "collapsed": false,
    "slideshow": {
     "slide_type": "fragment"
    }
   },
   "outputs": [],
   "source": [
    "trainingSet = range(50)\n",
    "testSet = [] \n",
    "index_list = []\n",
    "for i in range(10):\n",
    "    randIndex = int(np.random.uniform(0, len(trainingSet)))\n",
    "    testSet.append(trainingSet[randIndex])\n",
    "    index_list.append(randIndex)\n",
    "    del trainingSet[randIndex]\n",
    "\n",
    "trainMat = []\n",
    "trainClasses = [] #提取训练数据\n",
    "for docIndex in trainingSet: \n",
    "    trainMat.append(bag_of_words_to_vec(all_words_list, wordList[docIndex]))\n",
    "    trainClasses.append(classList[docIndex])"
   ]
  },
  {
   "cell_type": "code",
   "execution_count": 32,
   "metadata": {
    "collapsed": false,
    "scrolled": true,
    "slideshow": {
     "slide_type": "fragment"
    }
   },
   "outputs": [
    {
     "name": "stdout",
     "output_type": "stream",
     "text": [
      "[0.0, 0.0, 0.0, 0.0, 1.0, 0.0, 0.0, 0.0, 0.0, 0.0, 0.0, 0.0, 0.0, 0.0, 0.0, 0.0, 0.0, 0.0, 0.0, 0.0, 0.0, 0.0, 0.0, 0.0, 0.0, 0.0, 0.0, 0.0, 0.0, 0.0, 0.0, 0.0, 0.0, 0.0, 0.0, 0.0, 0.0, 0.0, 0.0, 0.0, 0.0, 0.0, 0.0, 0.0, 0.0, 0.0, 0.0, 0.0, 0.0, 0.0, 0.0, 0.0, 0.0, 0.0, 0.0, 0.0, 0.0, 0.0, 0.0, 0.0, 0.0, 0.0, 0.0, 0.0, 0.0, 0.0, 0.0, 0.0, 0.0, 0.0, 0.0, 0.0, 0.0, 0.0, 0.0, 0.0, 0.0, 0.0, 0.0, 0.0, 0.0, 0.0, 0.0, 0.0, 0.0, 0.0, 0.0, 0.0, 0.0, 0.0, 0.0, 0.0, 0.0, 0.0, 0.0, 0.0, 0.0, 0.0, 0.0, 0.0, 0.0, 0.0, 0.0, 0.0, 0.0, 0.0, 0.0, 0.0, 0.0, 0.0, 0.0, 0.0, 0.0, 0.0, 0.0, 0.0, 0.0, 0.0, 0.0, 0.0, 0.0, 0.0, 0.0, 0.0, 0.0, 0.0, 0.0, 0.0, 0.0, 0.0, 0.0, 0.0, 0.0, 0.0, 0.0, 0.0, 0.0, 0.0, 0.0, 0.0, 0.0, 0.0, 0.0, 0.0, 0.0, 0.0, 0.0, 0.0, 0.0, 0.0, 0.0, 0.0, 0.0, 0.0, 0.0, 0.0, 0.0, 0.0, 0.0, 0.0, 0.0, 0.0, 0.0, 0.0, 0.0, 0.0, 0.0, 0.0, 0.0, 0.0, 0.0, 0.0, 0.0, 0.0, 0.0, 0.0, 0.0, 0.0, 0.0, 0.0, 0.0, 0.0, 0.0, 0.0, 0.0, 0.0, 0.0, 0.0, 0.0, 0.0, 0.0, 0.0, 0.0, 0.0, 0.0, 0.0, 0.0, 0.0, 0.0, 0.0, 0.0, 0.0, 0.0, 0.0, 0.0, 0.0, 0.0, 0.0, 0.0, 0.0, 0.0, 0.0, 0.0, 0.0, 0.0, 0.0, 0.0, 0.0, 0.0, 0.0, 0.0, 0.0, 1.0, 0.0, 0.0, 0.0, 0.0, 0.0, 0.0, 0.0, 0.0, 0.0, 0.0, 0.0, 0.0, 0.0, 0.0, 0.0, 0.0, 0.0, 0.0, 0.0, 0.0, 0.0, 0.0, 0.0, 0.0, 0.0, 0.0, 0.0, 0.0, 0.0, 0.0, 0.0, 0.0, 0.0, 0.0, 0.0, 0.0, 0.0, 0.0, 0.0, 0.0, 0.0, 0.0, 0.0, 0.0, 0.0, 0.0, 0.0, 0.0, 0.0, 0.0, 0.0, 0.0, 0.0, 0.0, 0.0, 0.0, 0.0, 0.0, 0.0, 0.0, 0.0, 0.0, 0.0, 0.0, 0.0, 0.0, 0.0, 0.0, 0.0, 0.0, 0.0, 0.0, 0.0, 0.0, 0.0, 0.0, 0.0, 1.0, 0.0, 0.0, 0.0, 0.0, 0.0, 0.0, 0.0, 0.0, 2.0, 0.0, 0.0, 0.0, 1.0, 0.0, 0.0, 0.0, 0.0, 0.0, 0.0, 0.0, 0.0, 0.0, 0.0, 0.0, 0.0, 0.0, 0.0, 0.0, 0.0, 0.0, 2.0, 0.0, 1.0, 0.0, 0.0, 0.0, 0.0, 2.0, 0.0, 0.0, 0.0, 0.0, 0.0, 0.0, 0.0, 0.0, 0.0, 0.0, 0.0, 0.0, 0.0, 0.0, 0.0, 0.0, 0.0, 0.0, 0.0, 0.0, 0.0, 0.0, 0.0, 0.0, 2.0, 0.0, 0.0, 0.0, 0.0, 0.0, 0.0, 0.0, 0.0, 0.0, 0.0, 0.0, 0.0, 0.0, 0.0, 0.0, 0.0, 0.0, 0.0, 0.0, 0.0, 0.0, 0.0, 0.0, 0.0, 0.0, 0.0, 0.0, 0.0, 0.0, 0.0, 0.0, 0.0, 0.0, 0.0, 0.0, 0.0, 0.0, 0.0, 0.0, 0.0, 0.0, 0.0, 0.0, 0.0, 0.0, 0.0, 0.0, 0.0, 0.0, 0.0, 0.0, 0.0, 0.0, 0.0, 0.0, 1.0, 0.0, 0.0, 0.0, 0.0, 0.0, 0.0, 0.0, 0.0, 0.0, 0.0, 0.0, 1.0, 0.0, 0.0, 0.0, 0.0, 0.0, 0.0, 1.0, 0.0, 0.0, 0.0, 0.0, 0.0, 0.0, 0.0, 0.0, 0.0, 0.0, 0.0, 0.0, 5.0, 0.0, 0.0, 0.0, 0.0, 0.0, 0.0, 0.0, 0.0, 0.0, 0.0, 0.0, 0.0, 0.0, 0.0, 0.0, 0.0, 0.0, 0.0, 0.0, 0.0, 0.0, 0.0, 0.0, 0.0, 0.0, 0.0, 0.0, 0.0, 0.0, 0.0, 0.0, 0.0, 0.0, 0.0, 0.0, 0.0, 0.0, 0.0, 0.0, 0.0, 0.0, 0.0, 0.0, 0.0, 0.0, 0.0, 0.0, 0.0, 0.0, 0.0, 0.0, 0.0, 0.0, 0.0, 0.0, 0.0, 0.0, 0.0, 0.0, 0.0, 0.0, 0.0, 0.0, 0.0, 0.0, 0.0, 0.0, 0.0, 0.0, 0.0, 0.0, 0.0, 0.0, 0.0, 0.0, 0.0, 0.0, 0.0, 0.0, 0.0, 0.0, 0.0, 0.0, 0.0, 0.0, 0.0, 0.0, 0.0, 0.0, 0.0, 0.0, 0.0, 0.0, 0.0, 0.0, 0.0, 0.0, 0.0, 0.0, 0.0, 0.0, 0.0, 0.0, 0.0, 0.0, 0.0, 0.0, 0.0, 0.0, 0.0, 0.0, 0.0, 0.0, 0.0, 0.0, 0.0, 1.0, 0.0, 0.0, 0.0, 0.0, 0.0, 0.0, 0.0, 0.0, 0.0, 0.0, 0.0, 0.0, 0.0, 0.0, 0.0, 4.0, 0.0, 0.0, 0.0, 0.0, 0.0, 0.0, 0.0, 0.0, 0.0, 0.0, 0.0, 0.0, 0.0, 0.0, 0.0, 0.0, 0.0, 0.0, 0.0, 0.0, 0.0, 0.0, 0.0, 0.0, 0.0, 0.0, 0.0, 0.0, 0.0, 0.0, 0.0, 0.0, 0.0, 0.0, 0.0, 0.0, 0.0, 0.0, 0.0, 0.0, 0.0, 0.0, 0.0, 0.0, 0.0, 0.0, 0.0, 0.0, 1.0, 0.0, 0.0, 0.0, 0.0, 0.0, 0.0, 0.0, 0.0, 0.0, 0.0, 0.0, 0.0, 0.0, 0.0, 0.0, 0.0, 0.0, 0.0, 0.0, 0.0, 0.0, 0.0, 0.0, 0.0, 0.0, 0.0, 0.0, 0.0, 0.0, 0.0, 0.0, 0.0, 0.0, 0.0, 0.0, 0.0, 0.0, 0.0, 0.0, 0.0, 0.0, 0.0, 0.0, 0.0, 0.0, 0.0, 0.0, 0.0, 0.0, 0.0, 0.0, 0.0, 0.0, 0.0, 0.0, 0.0, 0.0, 0.0]\n"
     ]
    }
   ],
   "source": [
    "print trainMat[0]"
   ]
  },
  {
   "cell_type": "markdown",
   "metadata": {
    "slideshow": {
     "slide_type": "slide"
    }
   },
   "source": [
    "### 训练数据"
   ]
  },
  {
   "cell_type": "code",
   "execution_count": 38,
   "metadata": {
    "collapsed": true,
    "slideshow": {
     "slide_type": "fragment"
    }
   },
   "outputs": [],
   "source": [
    "def train_nb(train_matrix, train_category):\n",
    "    prob_of_spam = np.sum(train_category) / float(len(train_category)) # 算出总体数据中垃圾邮件的概率\n",
    "    num_of_train_data = len(train_matrix)\n",
    "    num_of_words = len(train_matrix[0])\n",
    "    spam_vect = np.ones(num_of_words)\n",
    "    normal_vect = np.ones(num_of_words)\n",
    "\n",
    "    total_spam_words, total_normal_words = 2, 2 #为数据加上初始值防止在做log运算时报错\n",
    "\n",
    "    for i in range(num_of_train_data):\n",
    "        if train_category[i] == 1:\n",
    "            spam_vect += train_matrix[i] #每封垃圾邮件词向量的累加\n",
    "            total_spam_words += np.sum(train_matrix[i]) #每封垃圾邮件中所有词数量的累加和\n",
    "        else:\n",
    "            normal_vect += train_matrix[i]\n",
    "            total_normal_words += np.sum(train_matrix[i])\n",
    "\n",
    "    prob_of_spam_vect = np.log(spam_vect / float(total_spam_words)) \n",
    "    #垃圾邮件中 每个词 与 所有词汇 数量的比值, 即 P(w0 | c1)*P(w1 | c1)*...*P(wn | c1)\n",
    "    prob_of_normal_vect = np.log(normal_vect / float(total_normal_words))\n",
    "    #正常邮件中 每个词 与 所有词汇 数量的比值, 即 P(w0 | c0)*P(w1 | c0)*...*P(wn | c0)\n",
    "    return prob_of_spam_vect, prob_of_normal_vect, prob_of_spam"
   ]
  },
  {
   "cell_type": "code",
   "execution_count": 39,
   "metadata": {
    "collapsed": false,
    "slideshow": {
     "slide_type": "fragment"
    }
   },
   "outputs": [],
   "source": [
    "prob_of_spam_vect, prob_of_normal_vect, prob_of_spam = train_nb(np.array(trainMat), np.array(trainClasses))"
   ]
  },
  {
   "cell_type": "code",
   "execution_count": 41,
   "metadata": {
    "collapsed": false,
    "slideshow": {
     "slide_type": "fragment"
    }
   },
   "outputs": [
    {
     "name": "stdout",
     "output_type": "stream",
     "text": [
      "[-4.7819207  -6.57368017 -6.57368017 -6.57368017 -4.96424225 -5.88053299\n",
      " -6.57368017 -6.57368017 -6.57368017 -4.00873081 -6.57368017 -6.57368017\n",
      " -6.57368017 -6.57368017 -6.57368017 -6.57368017 -6.57368017 -5.88053299\n",
      " -6.57368017 -6.57368017 -5.88053299 -5.18738581 -6.57368017 -6.57368017\n",
      " -6.57368017 -6.57368017 -6.57368017 -5.18738581 -6.57368017 -6.57368017\n",
      " -6.57368017 -6.57368017 -6.57368017 -6.57368017 -6.57368017 -5.47506788\n",
      " -6.57368017 -6.57368017 -5.18738581 -6.57368017 -6.57368017 -5.88053299\n",
      " -6.57368017 -5.47506788 -6.57368017 -6.57368017 -5.88053299 -6.57368017\n",
      " -5.88053299 -6.57368017 -6.57368017 -6.57368017 -6.57368017 -6.57368017\n",
      " -6.57368017 -5.47506788 -4.62777002 -6.57368017 -6.57368017 -6.57368017\n",
      " -5.88053299 -6.57368017 -6.57368017 -5.18738581 -6.57368017 -4.96424225\n",
      " -6.57368017 -5.88053299 -5.88053299 -6.57368017 -6.57368017 -3.31558363\n",
      " -5.88053299 -5.88053299 -6.57368017 -6.57368017 -5.18738581 -6.57368017\n",
      " -6.57368017 -6.57368017 -4.49423863 -5.18738581 -5.88053299 -5.47506788\n",
      " -6.57368017 -6.57368017 -6.57368017 -5.18738581 -5.47506788 -6.57368017\n",
      " -5.18738581 -6.57368017 -6.57368017 -6.57368017 -6.57368017 -6.57368017\n",
      " -4.96424225 -6.57368017 -4.00873081 -6.57368017 -6.57368017 -6.57368017\n",
      " -6.57368017 -5.18738581 -4.62777002 -6.57368017 -6.57368017 -6.57368017\n",
      " -4.62777002 -5.47506788 -6.57368017 -6.57368017 -5.18738581 -6.57368017\n",
      " -6.57368017 -6.57368017 -6.57368017 -5.88053299 -6.57368017 -5.88053299\n",
      " -6.57368017 -5.88053299 -5.88053299 -6.57368017 -6.57368017 -4.62777002\n",
      " -6.57368017 -5.18738581 -6.57368017 -6.57368017 -6.57368017 -6.57368017\n",
      " -6.57368017 -6.57368017 -6.57368017 -5.47506788 -6.57368017 -4.62777002\n",
      " -6.57368017 -6.57368017 -6.57368017 -6.57368017 -5.88053299 -6.57368017\n",
      " -6.57368017 -6.57368017 -4.62777002 -6.57368017 -6.57368017 -6.57368017\n",
      " -4.62777002 -5.47506788 -6.57368017 -6.57368017 -5.88053299 -6.57368017\n",
      " -6.57368017 -5.88053299 -6.57368017 -6.57368017 -4.62777002 -4.62777002\n",
      " -5.88053299 -6.57368017 -5.88053299 -5.88053299 -6.57368017 -6.57368017\n",
      " -5.47506788 -6.57368017 -6.57368017 -6.57368017 -6.57368017 -6.57368017\n",
      " -6.57368017 -6.57368017 -6.57368017 -6.57368017 -6.57368017 -6.57368017\n",
      " -6.57368017 -6.57368017 -6.57368017 -6.57368017 -5.88053299 -6.57368017\n",
      " -6.57368017 -6.57368017 -6.57368017 -6.57368017 -6.57368017 -6.57368017\n",
      " -4.37645559 -6.57368017 -6.57368017 -6.57368017 -6.57368017 -6.57368017\n",
      " -5.47506788 -6.57368017 -6.57368017 -6.57368017 -6.57368017 -6.57368017\n",
      " -4.62777002 -6.57368017 -4.96424225 -4.62777002 -6.57368017 -6.57368017\n",
      " -5.18738581 -6.57368017 -6.57368017 -6.57368017 -5.18738581 -6.57368017\n",
      " -6.57368017 -6.57368017 -5.47506788 -6.57368017 -5.18738581 -6.57368017\n",
      " -5.47506788 -6.57368017 -6.57368017 -6.57368017 -6.57368017 -6.57368017\n",
      " -6.57368017 -6.57368017 -6.57368017 -5.18738581 -6.57368017 -6.57368017\n",
      " -6.57368017 -5.88053299 -6.57368017 -6.57368017 -5.18738581 -5.88053299\n",
      " -5.88053299 -6.57368017 -6.57368017 -6.57368017 -6.57368017 -6.57368017\n",
      " -6.57368017 -5.88053299 -6.57368017 -6.57368017 -4.62777002 -6.57368017\n",
      " -6.57368017 -5.47506788 -6.57368017 -6.57368017 -5.18738581 -6.57368017\n",
      " -5.47506788 -5.88053299 -6.57368017 -6.57368017 -6.57368017 -6.57368017\n",
      " -6.57368017 -6.57368017 -6.57368017 -6.57368017 -6.57368017 -6.57368017\n",
      " -4.7819207  -5.88053299 -6.57368017 -6.57368017 -6.57368017 -5.47506788\n",
      " -5.47506788 -6.57368017 -6.57368017 -5.88053299 -5.47506788 -6.57368017\n",
      " -6.57368017 -5.47506788 -6.57368017 -6.57368017 -6.57368017 -6.57368017\n",
      " -6.57368017 -5.18738581 -5.47506788 -6.57368017 -6.57368017 -6.57368017\n",
      " -6.57368017 -6.57368017 -6.57368017 -6.57368017 -6.57368017 -6.57368017\n",
      " -5.47506788 -6.57368017 -6.57368017 -6.57368017 -5.47506788 -6.57368017\n",
      " -5.18738581 -3.62924119 -5.47506788 -4.96424225 -5.88053299 -4.17578489\n",
      " -6.57368017 -4.37645559 -6.57368017 -6.57368017 -6.57368017 -6.57368017\n",
      " -6.57368017 -6.57368017 -5.47506788 -6.57368017 -6.57368017 -6.57368017\n",
      " -6.57368017 -6.57368017 -6.57368017 -5.88053299 -5.18738581 -5.88053299\n",
      " -5.88053299 -4.96424225 -6.57368017 -5.47506788 -6.57368017 -6.57368017\n",
      " -5.18738581 -5.88053299 -4.49423863 -6.57368017 -6.57368017 -5.47506788\n",
      " -5.88053299 -5.47506788 -6.57368017 -6.57368017 -5.47506788 -6.57368017\n",
      " -5.18738581 -6.57368017 -4.62777002 -5.18738581 -6.57368017 -5.47506788\n",
      " -6.57368017 -5.88053299 -6.57368017 -5.88053299 -5.88053299 -6.57368017\n",
      " -6.57368017 -6.57368017 -6.57368017 -4.62777002 -6.57368017 -6.57368017\n",
      " -6.57368017 -6.57368017 -6.57368017 -6.57368017 -4.62777002 -5.18738581\n",
      " -5.18738581 -6.57368017 -4.7819207  -5.18738581 -5.18738581 -6.57368017\n",
      " -6.57368017 -5.88053299 -5.88053299 -6.57368017 -5.88053299 -6.57368017\n",
      " -6.57368017 -5.18738581 -6.57368017 -6.57368017 -6.57368017 -6.57368017\n",
      " -6.57368017 -6.57368017 -6.57368017 -5.18738581 -6.57368017 -6.57368017\n",
      " -6.57368017 -6.57368017 -6.57368017 -6.57368017 -6.57368017 -6.57368017\n",
      " -6.57368017 -6.57368017 -6.57368017 -6.57368017 -5.47506788 -6.57368017\n",
      " -6.57368017 -6.57368017 -5.47506788 -6.57368017 -6.57368017 -6.57368017\n",
      " -4.62777002 -5.47506788 -6.57368017 -5.88053299 -6.57368017 -5.47506788\n",
      " -6.57368017 -6.57368017 -6.57368017 -6.57368017 -6.57368017 -6.57368017\n",
      " -6.57368017 -6.57368017 -6.57368017 -6.57368017 -6.57368017 -5.47506788\n",
      " -6.57368017 -6.57368017 -6.57368017 -5.47506788 -5.88053299 -5.18738581\n",
      " -5.47506788 -6.57368017 -6.57368017 -6.57368017 -6.57368017 -6.57368017\n",
      " -6.57368017 -6.57368017 -6.57368017 -6.57368017 -5.47506788 -6.57368017\n",
      " -6.57368017 -4.17578489 -6.57368017 -5.88053299 -6.57368017 -4.62777002\n",
      " -5.88053299 -6.57368017 -6.57368017 -5.47506788 -5.47506788 -6.57368017\n",
      " -6.57368017 -6.57368017 -6.57368017 -6.57368017 -6.57368017 -5.18738581\n",
      " -5.18738581 -6.57368017 -6.57368017 -6.57368017 -6.57368017 -6.57368017\n",
      " -5.88053299 -6.57368017 -6.57368017 -6.57368017 -5.88053299 -5.88053299\n",
      " -6.57368017 -5.88053299 -4.62777002 -5.18738581 -4.62777002 -6.57368017\n",
      " -6.57368017 -6.57368017 -6.57368017 -6.57368017 -6.57368017 -6.57368017\n",
      " -6.57368017 -6.57368017 -6.57368017 -5.47506788 -6.57368017 -6.57368017\n",
      " -6.57368017 -6.57368017 -6.57368017 -6.57368017 -6.57368017 -5.88053299\n",
      " -4.62777002 -4.96424225 -6.57368017 -6.57368017 -6.57368017 -6.57368017\n",
      " -6.57368017 -6.57368017 -5.18738581 -6.57368017 -6.57368017 -6.57368017\n",
      " -6.57368017 -6.57368017 -6.57368017 -5.88053299 -6.57368017 -6.57368017\n",
      " -5.47506788 -6.57368017 -5.18738581 -6.57368017 -6.57368017 -6.57368017\n",
      " -6.57368017 -6.57368017 -6.57368017 -6.57368017 -6.57368017 -5.18738581\n",
      " -6.57368017 -6.57368017 -5.88053299 -6.57368017 -5.88053299 -4.62777002\n",
      " -5.88053299 -5.88053299 -6.57368017 -5.18738581 -6.57368017 -6.57368017\n",
      " -6.57368017 -4.49423863 -6.57368017 -6.57368017 -6.57368017 -5.47506788\n",
      " -6.57368017 -6.57368017 -6.57368017 -5.47506788 -6.57368017 -5.47506788\n",
      " -5.88053299 -5.47506788 -5.88053299 -6.57368017 -6.57368017 -6.57368017\n",
      " -5.88053299 -5.47506788 -4.62777002 -6.57368017 -5.47506788 -6.57368017\n",
      " -6.57368017 -6.57368017 -5.88053299 -6.57368017 -6.57368017 -6.57368017\n",
      " -6.57368017 -6.57368017 -5.47506788 -6.57368017 -5.18738581 -5.47506788\n",
      " -6.57368017 -6.57368017 -4.00873081 -6.57368017 -6.57368017 -6.57368017\n",
      " -5.88053299 -4.96424225 -4.62777002 -6.57368017 -5.47506788 -6.57368017\n",
      " -6.57368017 -6.57368017 -5.88053299 -6.57368017 -5.18738581 -5.88053299\n",
      " -6.57368017 -6.57368017 -5.18738581 -6.57368017 -6.57368017 -6.57368017\n",
      " -5.47506788 -6.57368017 -5.88053299 -5.18738581 -4.62777002 -6.57368017\n",
      " -5.18738581 -6.57368017 -6.57368017 -5.88053299 -4.49423863 -6.57368017\n",
      " -4.62777002 -6.57368017 -6.57368017 -5.88053299 -5.47506788 -6.57368017\n",
      " -6.57368017 -5.47506788 -6.57368017 -6.57368017 -4.62777002 -6.57368017\n",
      " -6.57368017 -5.47506788 -4.49423863 -5.47506788 -6.57368017 -6.57368017\n",
      " -4.62777002 -6.57368017 -6.57368017 -5.47506788 -5.47506788 -5.88053299\n",
      " -5.47506788 -6.57368017 -6.57368017 -5.47506788 -6.57368017 -4.62777002\n",
      " -6.57368017 -6.57368017 -6.57368017 -6.57368017 -6.57368017 -6.57368017\n",
      " -6.57368017 -4.49423863 -6.57368017 -6.57368017 -5.88053299 -6.57368017\n",
      " -5.47506788 -5.88053299 -6.57368017 -6.57368017 -6.57368017 -6.57368017\n",
      " -5.47506788 -5.88053299 -6.57368017 -4.17578489 -6.57368017 -6.57368017\n",
      " -6.57368017 -6.57368017 -6.57368017 -6.57368017 -6.57368017 -5.88053299\n",
      " -6.57368017 -4.62777002 -6.57368017 -6.57368017 -6.57368017 -5.18738581\n",
      " -5.18738581 -5.88053299 -5.88053299 -5.88053299 -6.57368017 -6.57368017\n",
      " -6.57368017 -6.57368017]\n"
     ]
    }
   ],
   "source": [
    "print prob_of_spam_vect"
   ]
  },
  {
   "cell_type": "code",
   "execution_count": 42,
   "metadata": {
    "collapsed": false,
    "slideshow": {
     "slide_type": "fragment"
    }
   },
   "outputs": [
    {
     "name": "stdout",
     "output_type": "stream",
     "text": [
      "0.55\n"
     ]
    }
   ],
   "source": [
    "print prob_of_spam"
   ]
  },
  {
   "cell_type": "markdown",
   "metadata": {
    "slideshow": {
     "slide_type": "slide"
    }
   },
   "source": [
    "### 测试数据"
   ]
  },
  {
   "cell_type": "code",
   "execution_count": 47,
   "metadata": {
    "collapsed": true,
    "slideshow": {
     "slide_type": "fragment"
    }
   },
   "outputs": [],
   "source": [
    "def bag_of_words_to_vec(vocab_list, input_set): #词袋向量\n",
    "    return_vec = list(np.zeros(len(vocab_list)))\n",
    "    for word in input_set:\n",
    "        if word in vocab_list:\n",
    "            return_vec[vocab_list.index(word)] += 1\n",
    "    return return_vec"
   ]
  },
  {
   "cell_type": "code",
   "execution_count": 48,
   "metadata": {
    "collapsed": true,
    "slideshow": {
     "slide_type": "fragment"
    }
   },
   "outputs": [],
   "source": [
    "def classify(prob_of_spam_vect, prob_of_normal_vect, prob_of_spam, testing_vect): #测试数据\n",
    "    spam = np.sum(prob_of_spam_vect * testing_vect) + np.log(prob_of_spam) #当前邮件为spam的概率\n",
    "    normal = np.sum(prob_of_normal_vect * testing_vect) + np.log(1 - prob_of_spam) #当前邮件为normal的概率\n",
    "    if spam > normal:\n",
    "        return 1\n",
    "    else:\n",
    "        return 0"
   ]
  },
  {
   "cell_type": "code",
   "execution_count": 49,
   "metadata": {
    "collapsed": false,
    "slideshow": {
     "slide_type": "fragment"
    }
   },
   "outputs": [],
   "source": [
    "error_count = 0\n",
    "for docIndex in trainingSet:\n",
    "    test_vect = bag_of_words_to_vec(all_words_list, wordList[docIndex])\n",
    "    email_type = classify(prob_of_spam_vect, prob_of_normal_vect, prob_of_spam, test_vect)\n",
    "    if email_type != classList[docIndex]:\n",
    "        error_count += 1"
   ]
  },
  {
   "cell_type": "code",
   "execution_count": 50,
   "metadata": {
    "collapsed": false,
    "slideshow": {
     "slide_type": "fragment"
    }
   },
   "outputs": [
    {
     "data": {
      "text/plain": [
       "0"
      ]
     },
     "execution_count": 50,
     "metadata": {},
     "output_type": "execute_result"
    }
   ],
   "source": [
    "error_count"
   ]
  },
  {
   "cell_type": "code",
   "execution_count": null,
   "metadata": {
    "collapsed": true
   },
   "outputs": [],
   "source": []
  },
  {
   "cell_type": "code",
   "execution_count": null,
   "metadata": {
    "collapsed": true
   },
   "outputs": [],
   "source": []
  }
 ],
 "metadata": {
  "celltoolbar": "Slideshow",
  "kernelspec": {
   "display_name": "Python 2",
   "language": "python",
   "name": "python2"
  },
  "language_info": {
   "codemirror_mode": {
    "name": "ipython",
    "version": 2
   },
   "file_extension": ".py",
   "mimetype": "text/x-python",
   "name": "python",
   "nbconvert_exporter": "python",
   "pygments_lexer": "ipython2",
   "version": "2.7.13"
  }
 },
 "nbformat": 4,
 "nbformat_minor": 2
}
