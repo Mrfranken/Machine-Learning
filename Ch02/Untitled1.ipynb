{
 "cells": [
  {
   "cell_type": "code",
   "execution_count": 1,
   "metadata": {
    "collapsed": true
   },
   "outputs": [],
   "source": [
    "import pandas as pd"
   ]
  },
  {
   "cell_type": "code",
   "execution_count": 2,
   "metadata": {
    "collapsed": false
   },
   "outputs": [
    {
     "data": {
      "text/html": [
       "<div>\n",
       "<table border=\"1\" class=\"dataframe\">\n",
       "  <thead>\n",
       "    <tr style=\"text-align: right;\">\n",
       "      <th></th>\n",
       "      <th>a</th>\n",
       "      <th>b</th>\n",
       "      <th>c</th>\n",
       "      <th>d</th>\n",
       "    </tr>\n",
       "  </thead>\n",
       "  <tbody>\n",
       "    <tr>\n",
       "      <th>0</th>\n",
       "      <td>40920</td>\n",
       "      <td>8.326976</td>\n",
       "      <td>0.953952</td>\n",
       "      <td>largeDoses</td>\n",
       "    </tr>\n",
       "    <tr>\n",
       "      <th>1</th>\n",
       "      <td>14488</td>\n",
       "      <td>7.153469</td>\n",
       "      <td>1.673904</td>\n",
       "      <td>smallDoses</td>\n",
       "    </tr>\n",
       "    <tr>\n",
       "      <th>2</th>\n",
       "      <td>26052</td>\n",
       "      <td>1.441871</td>\n",
       "      <td>0.805124</td>\n",
       "      <td>didntLike</td>\n",
       "    </tr>\n",
       "    <tr>\n",
       "      <th>3</th>\n",
       "      <td>75136</td>\n",
       "      <td>13.147394</td>\n",
       "      <td>0.428964</td>\n",
       "      <td>didntLike</td>\n",
       "    </tr>\n",
       "    <tr>\n",
       "      <th>4</th>\n",
       "      <td>38344</td>\n",
       "      <td>1.669788</td>\n",
       "      <td>0.134296</td>\n",
       "      <td>didntLike</td>\n",
       "    </tr>\n",
       "  </tbody>\n",
       "</table>\n",
       "</div>"
      ],
      "text/plain": [
       "       a          b         c           d\n",
       "0  40920   8.326976  0.953952  largeDoses\n",
       "1  14488   7.153469  1.673904  smallDoses\n",
       "2  26052   1.441871  0.805124   didntLike\n",
       "3  75136  13.147394  0.428964   didntLike\n",
       "4  38344   1.669788  0.134296   didntLike"
      ]
     },
     "execution_count": 2,
     "metadata": {},
     "output_type": "execute_result"
    }
   ],
   "source": [
    "df = pd.read_table('datingTestSet.txt', sep='\\t', names=['a', 'b', 'c', 'd'])\n",
    "df.head()"
   ]
  },
  {
   "cell_type": "code",
   "execution_count": 3,
   "metadata": {
    "collapsed": false
   },
   "outputs": [
    {
     "data": {
      "text/html": [
       "<div>\n",
       "<table border=\"1\" class=\"dataframe\">\n",
       "  <thead>\n",
       "    <tr style=\"text-align: right;\">\n",
       "      <th></th>\n",
       "      <th>a</th>\n",
       "      <th>b</th>\n",
       "      <th>c</th>\n",
       "    </tr>\n",
       "  </thead>\n",
       "  <tbody>\n",
       "    <tr>\n",
       "      <th>0</th>\n",
       "      <td>40920</td>\n",
       "      <td>8.326976</td>\n",
       "      <td>0.953952</td>\n",
       "    </tr>\n",
       "    <tr>\n",
       "      <th>1</th>\n",
       "      <td>14488</td>\n",
       "      <td>7.153469</td>\n",
       "      <td>1.673904</td>\n",
       "    </tr>\n",
       "    <tr>\n",
       "      <th>2</th>\n",
       "      <td>26052</td>\n",
       "      <td>1.441871</td>\n",
       "      <td>0.805124</td>\n",
       "    </tr>\n",
       "    <tr>\n",
       "      <th>3</th>\n",
       "      <td>75136</td>\n",
       "      <td>13.147394</td>\n",
       "      <td>0.428964</td>\n",
       "    </tr>\n",
       "    <tr>\n",
       "      <th>4</th>\n",
       "      <td>38344</td>\n",
       "      <td>1.669788</td>\n",
       "      <td>0.134296</td>\n",
       "    </tr>\n",
       "  </tbody>\n",
       "</table>\n",
       "</div>"
      ],
      "text/plain": [
       "       a          b         c\n",
       "0  40920   8.326976  0.953952\n",
       "1  14488   7.153469  1.673904\n",
       "2  26052   1.441871  0.805124\n",
       "3  75136  13.147394  0.428964\n",
       "4  38344   1.669788  0.134296"
      ]
     },
     "execution_count": 3,
     "metadata": {},
     "output_type": "execute_result"
    }
   ],
   "source": [
    "df.ix[:, [0, 1, 2]].head()"
   ]
  },
  {
   "cell_type": "code",
   "execution_count": 4,
   "metadata": {
    "collapsed": true
   },
   "outputs": [],
   "source": [
    "category_list = list()"
   ]
  },
  {
   "cell_type": "code",
   "execution_count": 5,
   "metadata": {
    "collapsed": true
   },
   "outputs": [],
   "source": [
    "for third_element in df.ix[:, 3]:\n",
    "    if third_element == 'largeDoses':\n",
    "        category = 3\n",
    "    elif third_element == 'smallDoses':\n",
    "        category = 2\n",
    "    else:\n",
    "        category = 1\n",
    "    category_list.append(category)"
   ]
  },
  {
   "cell_type": "code",
   "execution_count": null,
   "metadata": {
    "collapsed": false
   },
   "outputs": [],
   "source": [
    "category_list[:6]"
   ]
  },
  {
   "cell_type": "code",
   "execution_count": 6,
   "metadata": {
    "collapsed": true
   },
   "outputs": [],
   "source": [
    "def file_to_matrix():\n",
    "    df = pd.read_table('datingTestSet.txt', sep='\\t', names=['a', 'b', 'c', 'd'])\n",
    "    category_list = list()\n",
    "    for third_element in df.ix[:, 3]:\n",
    "        if third_element == 'largeDoses':\n",
    "            category = 3\n",
    "        elif third_element == 'smallDoses':\n",
    "            category = 2\n",
    "        else:\n",
    "            category = 1\n",
    "        category_list.append(category)\n",
    "    dating_mat_matrix = df.ix[:, [0, 1, 2]]\n",
    "    return dating_mat_matrix, category_list"
   ]
  },
  {
   "cell_type": "code",
   "execution_count": 7,
   "metadata": {
    "collapsed": true
   },
   "outputs": [],
   "source": [
    "dating_mat_matrix, category_list = file_to_matrix()"
   ]
  },
  {
   "cell_type": "code",
   "execution_count": 8,
   "metadata": {
    "collapsed": false
   },
   "outputs": [
    {
     "data": {
      "text/html": [
       "<div>\n",
       "<table border=\"1\" class=\"dataframe\">\n",
       "  <thead>\n",
       "    <tr style=\"text-align: right;\">\n",
       "      <th></th>\n",
       "      <th>a</th>\n",
       "      <th>b</th>\n",
       "      <th>c</th>\n",
       "    </tr>\n",
       "  </thead>\n",
       "  <tbody>\n",
       "    <tr>\n",
       "      <th>0</th>\n",
       "      <td>40920</td>\n",
       "      <td>8.326976</td>\n",
       "      <td>0.953952</td>\n",
       "    </tr>\n",
       "    <tr>\n",
       "      <th>1</th>\n",
       "      <td>14488</td>\n",
       "      <td>7.153469</td>\n",
       "      <td>1.673904</td>\n",
       "    </tr>\n",
       "    <tr>\n",
       "      <th>2</th>\n",
       "      <td>26052</td>\n",
       "      <td>1.441871</td>\n",
       "      <td>0.805124</td>\n",
       "    </tr>\n",
       "    <tr>\n",
       "      <th>3</th>\n",
       "      <td>75136</td>\n",
       "      <td>13.147394</td>\n",
       "      <td>0.428964</td>\n",
       "    </tr>\n",
       "    <tr>\n",
       "      <th>4</th>\n",
       "      <td>38344</td>\n",
       "      <td>1.669788</td>\n",
       "      <td>0.134296</td>\n",
       "    </tr>\n",
       "  </tbody>\n",
       "</table>\n",
       "</div>"
      ],
      "text/plain": [
       "       a          b         c\n",
       "0  40920   8.326976  0.953952\n",
       "1  14488   7.153469  1.673904\n",
       "2  26052   1.441871  0.805124\n",
       "3  75136  13.147394  0.428964\n",
       "4  38344   1.669788  0.134296"
      ]
     },
     "execution_count": 8,
     "metadata": {},
     "output_type": "execute_result"
    }
   ],
   "source": [
    "dating_mat_matrix.head()"
   ]
  },
  {
   "cell_type": "code",
   "execution_count": 14,
   "metadata": {
    "collapsed": false
   },
   "outputs": [
    {
     "data": {
      "text/plain": [
       "[3, 2, 1, 1, 1, 1]"
      ]
     },
     "execution_count": 14,
     "metadata": {},
     "output_type": "execute_result"
    }
   ],
   "source": [
    "category_list[:6]"
   ]
  },
  {
   "cell_type": "code",
   "execution_count": 19,
   "metadata": {
    "collapsed": true
   },
   "outputs": [],
   "source": [
    "import numpy as np\n",
    "np.random.randint?"
   ]
  },
  {
   "cell_type": "code",
   "execution_count": 20,
   "metadata": {
    "collapsed": false
   },
   "outputs": [
    {
     "data": {
      "text/html": [
       "<div>\n",
       "<table border=\"1\" class=\"dataframe\">\n",
       "  <thead>\n",
       "    <tr style=\"text-align: right;\">\n",
       "      <th></th>\n",
       "      <th>a</th>\n",
       "      <th>b</th>\n",
       "      <th>c</th>\n",
       "      <th>d</th>\n",
       "      <th>e</th>\n",
       "    </tr>\n",
       "  </thead>\n",
       "  <tbody>\n",
       "    <tr>\n",
       "      <th>0</th>\n",
       "      <td>4</td>\n",
       "      <td>9</td>\n",
       "      <td>7</td>\n",
       "      <td>7</td>\n",
       "      <td>9</td>\n",
       "    </tr>\n",
       "    <tr>\n",
       "      <th>1</th>\n",
       "      <td>3</td>\n",
       "      <td>6</td>\n",
       "      <td>1</td>\n",
       "      <td>7</td>\n",
       "      <td>0</td>\n",
       "    </tr>\n",
       "    <tr>\n",
       "      <th>2</th>\n",
       "      <td>6</td>\n",
       "      <td>1</td>\n",
       "      <td>5</td>\n",
       "      <td>2</td>\n",
       "      <td>2</td>\n",
       "    </tr>\n",
       "    <tr>\n",
       "      <th>3</th>\n",
       "      <td>2</td>\n",
       "      <td>0</td>\n",
       "      <td>6</td>\n",
       "      <td>4</td>\n",
       "      <td>2</td>\n",
       "    </tr>\n",
       "    <tr>\n",
       "      <th>4</th>\n",
       "      <td>9</td>\n",
       "      <td>0</td>\n",
       "      <td>7</td>\n",
       "      <td>3</td>\n",
       "      <td>2</td>\n",
       "    </tr>\n",
       "    <tr>\n",
       "      <th>5</th>\n",
       "      <td>9</td>\n",
       "      <td>2</td>\n",
       "      <td>4</td>\n",
       "      <td>4</td>\n",
       "      <td>6</td>\n",
       "    </tr>\n",
       "    <tr>\n",
       "      <th>6</th>\n",
       "      <td>5</td>\n",
       "      <td>8</td>\n",
       "      <td>9</td>\n",
       "      <td>8</td>\n",
       "      <td>6</td>\n",
       "    </tr>\n",
       "    <tr>\n",
       "      <th>7</th>\n",
       "      <td>7</td>\n",
       "      <td>3</td>\n",
       "      <td>0</td>\n",
       "      <td>7</td>\n",
       "      <td>7</td>\n",
       "    </tr>\n",
       "    <tr>\n",
       "      <th>8</th>\n",
       "      <td>9</td>\n",
       "      <td>0</td>\n",
       "      <td>2</td>\n",
       "      <td>4</td>\n",
       "      <td>1</td>\n",
       "    </tr>\n",
       "    <tr>\n",
       "      <th>9</th>\n",
       "      <td>7</td>\n",
       "      <td>9</td>\n",
       "      <td>2</td>\n",
       "      <td>3</td>\n",
       "      <td>4</td>\n",
       "    </tr>\n",
       "  </tbody>\n",
       "</table>\n",
       "</div>"
      ],
      "text/plain": [
       "   a  b  c  d  e\n",
       "0  4  9  7  7  9\n",
       "1  3  6  1  7  0\n",
       "2  6  1  5  2  2\n",
       "3  2  0  6  4  2\n",
       "4  9  0  7  3  2\n",
       "5  9  2  4  4  6\n",
       "6  5  8  9  8  6\n",
       "7  7  3  0  7  7\n",
       "8  9  0  2  4  1\n",
       "9  7  9  2  3  4"
      ]
     },
     "execution_count": 20,
     "metadata": {},
     "output_type": "execute_result"
    }
   ],
   "source": [
    "df3 = pd.DataFrame(np.random.randint(10, size=(10, 5)), columns=['a', 'b', 'c', 'd', 'e'])\n",
    "df3"
   ]
  },
  {
   "cell_type": "code",
   "execution_count": 21,
   "metadata": {
    "collapsed": false
   },
   "outputs": [
    {
     "data": {
      "text/plain": [
       "array([2, 2, 2, 2, 2])"
      ]
     },
     "execution_count": 21,
     "metadata": {},
     "output_type": "execute_result"
    }
   ],
   "source": [
    "div = np.array([2,2,2,2,2])\n",
    "div"
   ]
  },
  {
   "cell_type": "code",
   "execution_count": 22,
   "metadata": {
    "collapsed": false
   },
   "outputs": [
    {
     "data": {
      "text/html": [
       "<div>\n",
       "<table border=\"1\" class=\"dataframe\">\n",
       "  <thead>\n",
       "    <tr style=\"text-align: right;\">\n",
       "      <th></th>\n",
       "      <th>a</th>\n",
       "      <th>b</th>\n",
       "      <th>c</th>\n",
       "      <th>d</th>\n",
       "      <th>e</th>\n",
       "    </tr>\n",
       "  </thead>\n",
       "  <tbody>\n",
       "    <tr>\n",
       "      <th>0</th>\n",
       "      <td>2.0</td>\n",
       "      <td>4.5</td>\n",
       "      <td>3.5</td>\n",
       "      <td>3.5</td>\n",
       "      <td>4.5</td>\n",
       "    </tr>\n",
       "    <tr>\n",
       "      <th>1</th>\n",
       "      <td>1.5</td>\n",
       "      <td>3.0</td>\n",
       "      <td>0.5</td>\n",
       "      <td>3.5</td>\n",
       "      <td>0.0</td>\n",
       "    </tr>\n",
       "    <tr>\n",
       "      <th>2</th>\n",
       "      <td>3.0</td>\n",
       "      <td>0.5</td>\n",
       "      <td>2.5</td>\n",
       "      <td>1.0</td>\n",
       "      <td>1.0</td>\n",
       "    </tr>\n",
       "    <tr>\n",
       "      <th>3</th>\n",
       "      <td>1.0</td>\n",
       "      <td>0.0</td>\n",
       "      <td>3.0</td>\n",
       "      <td>2.0</td>\n",
       "      <td>1.0</td>\n",
       "    </tr>\n",
       "    <tr>\n",
       "      <th>4</th>\n",
       "      <td>4.5</td>\n",
       "      <td>0.0</td>\n",
       "      <td>3.5</td>\n",
       "      <td>1.5</td>\n",
       "      <td>1.0</td>\n",
       "    </tr>\n",
       "    <tr>\n",
       "      <th>5</th>\n",
       "      <td>4.5</td>\n",
       "      <td>1.0</td>\n",
       "      <td>2.0</td>\n",
       "      <td>2.0</td>\n",
       "      <td>3.0</td>\n",
       "    </tr>\n",
       "    <tr>\n",
       "      <th>6</th>\n",
       "      <td>2.5</td>\n",
       "      <td>4.0</td>\n",
       "      <td>4.5</td>\n",
       "      <td>4.0</td>\n",
       "      <td>3.0</td>\n",
       "    </tr>\n",
       "    <tr>\n",
       "      <th>7</th>\n",
       "      <td>3.5</td>\n",
       "      <td>1.5</td>\n",
       "      <td>0.0</td>\n",
       "      <td>3.5</td>\n",
       "      <td>3.5</td>\n",
       "    </tr>\n",
       "    <tr>\n",
       "      <th>8</th>\n",
       "      <td>4.5</td>\n",
       "      <td>0.0</td>\n",
       "      <td>1.0</td>\n",
       "      <td>2.0</td>\n",
       "      <td>0.5</td>\n",
       "    </tr>\n",
       "    <tr>\n",
       "      <th>9</th>\n",
       "      <td>3.5</td>\n",
       "      <td>4.5</td>\n",
       "      <td>1.0</td>\n",
       "      <td>1.5</td>\n",
       "      <td>2.0</td>\n",
       "    </tr>\n",
       "  </tbody>\n",
       "</table>\n",
       "</div>"
      ],
      "text/plain": [
       "     a    b    c    d    e\n",
       "0  2.0  4.5  3.5  3.5  4.5\n",
       "1  1.5  3.0  0.5  3.5  0.0\n",
       "2  3.0  0.5  2.5  1.0  1.0\n",
       "3  1.0  0.0  3.0  2.0  1.0\n",
       "4  4.5  0.0  3.5  1.5  1.0\n",
       "5  4.5  1.0  2.0  2.0  3.0\n",
       "6  2.5  4.0  4.5  4.0  3.0\n",
       "7  3.5  1.5  0.0  3.5  3.5\n",
       "8  4.5  0.0  1.0  2.0  0.5\n",
       "9  3.5  4.5  1.0  1.5  2.0"
      ]
     },
     "execution_count": 22,
     "metadata": {},
     "output_type": "execute_result"
    }
   ],
   "source": [
    "df3 / div"
   ]
  },
  {
   "cell_type": "code",
   "execution_count": 23,
   "metadata": {
    "collapsed": true
   },
   "outputs": [],
   "source": [
    "import pandas as pd\n",
    "from numpy import *"
   ]
  },
  {
   "cell_type": "code",
   "execution_count": 24,
   "metadata": {
    "collapsed": true
   },
   "outputs": [],
   "source": [
    "\n",
    "def file_to_matrix(file_path):\n",
    "    df = pd.read_table('datingTestSet2.txt', sep='\\t', names=['a', 'b', 'c', 'd'])\n",
    "    dating_mat_matrix = df.ix[:, [0, 1, 2]]\n",
    "    category_array = df.ix[:, 3]\n",
    "    return dating_mat_matrix, category_array\n",
    "\n",
    "\n",
    "def auto_norm(data_set):\n",
    "    set_min = data_set.min(0)\n",
    "    ranges = data_set.max(0) - set_min\n",
    "    norm_data_set = (data_set - set_min) / ranges\n",
    "    return norm_data_set, set_min, ranges"
   ]
  },
  {
   "cell_type": "code",
   "execution_count": 54,
   "metadata": {
    "collapsed": false
   },
   "outputs": [],
   "source": [
    "file_path = 'datingTestSet2.txt'\n",
    "returnMat, classLabelVector = file_to_matrix(file_path)\n",
    "norm_data_set, set_min, ranges = auto_norm(returnMat)"
   ]
  },
  {
   "cell_type": "code",
   "execution_count": 65,
   "metadata": {
    "collapsed": false,
    "scrolled": true
   },
   "outputs": [
    {
     "data": {
      "text/plain": [
       "array([2, 1, 1, 1, 1, 3, 3, 1, 3, 1, 1, 2, 1, 1, 1, 1, 1, 2, 3, 2, 1], dtype=int64)"
      ]
     },
     "execution_count": 65,
     "metadata": {},
     "output_type": "execute_result"
    }
   ],
   "source": [
    "np.array(classLabelVector)[1:22]"
   ]
  },
  {
   "cell_type": "code",
   "execution_count": 62,
   "metadata": {
    "collapsed": false
   },
   "outputs": [
    {
     "data": {
      "text/plain": [
       "1    2\n",
       "2    1\n",
       "Name: d, dtype: int64"
      ]
     },
     "execution_count": 62,
     "metadata": {},
     "output_type": "execute_result"
    }
   ],
   "source": [
    "classLabelVector[1:3]"
   ]
  },
  {
   "cell_type": "code",
   "execution_count": null,
   "metadata": {
    "collapsed": true
   },
   "outputs": [],
   "source": []
  },
  {
   "cell_type": "code",
   "execution_count": 38,
   "metadata": {
    "collapsed": false
   },
   "outputs": [
    {
     "data": {
      "text/plain": [
       "(1000, 3)"
      ]
     },
     "execution_count": 38,
     "metadata": {},
     "output_type": "execute_result"
    }
   ],
   "source": [
    "norm_data_set.shape"
   ]
  },
  {
   "cell_type": "code",
   "execution_count": 39,
   "metadata": {
    "collapsed": false
   },
   "outputs": [
    {
     "data": {
      "text/html": [
       "<div>\n",
       "<table border=\"1\" class=\"dataframe\">\n",
       "  <thead>\n",
       "    <tr style=\"text-align: right;\">\n",
       "      <th></th>\n",
       "      <th>a</th>\n",
       "      <th>b</th>\n",
       "      <th>c</th>\n",
       "    </tr>\n",
       "  </thead>\n",
       "  <tbody>\n",
       "    <tr>\n",
       "      <th>0</th>\n",
       "      <td>0.448325</td>\n",
       "      <td>0.398051</td>\n",
       "      <td>0.562334</td>\n",
       "    </tr>\n",
       "    <tr>\n",
       "      <th>1</th>\n",
       "      <td>0.158733</td>\n",
       "      <td>0.341955</td>\n",
       "      <td>0.987244</td>\n",
       "    </tr>\n",
       "    <tr>\n",
       "      <th>2</th>\n",
       "      <td>0.285429</td>\n",
       "      <td>0.068925</td>\n",
       "      <td>0.474496</td>\n",
       "    </tr>\n",
       "    <tr>\n",
       "      <th>3</th>\n",
       "      <td>0.823201</td>\n",
       "      <td>0.628480</td>\n",
       "      <td>0.252489</td>\n",
       "    </tr>\n",
       "    <tr>\n",
       "      <th>4</th>\n",
       "      <td>0.420102</td>\n",
       "      <td>0.079820</td>\n",
       "      <td>0.078578</td>\n",
       "    </tr>\n",
       "  </tbody>\n",
       "</table>\n",
       "</div>"
      ],
      "text/plain": [
       "          a         b         c\n",
       "0  0.448325  0.398051  0.562334\n",
       "1  0.158733  0.341955  0.987244\n",
       "2  0.285429  0.068925  0.474496\n",
       "3  0.823201  0.628480  0.252489\n",
       "4  0.420102  0.079820  0.078578"
      ]
     },
     "execution_count": 39,
     "metadata": {},
     "output_type": "execute_result"
    }
   ],
   "source": [
    "norm_data_set.head()"
   ]
  },
  {
   "cell_type": "code",
   "execution_count": 48,
   "metadata": {
    "collapsed": false,
    "scrolled": true
   },
   "outputs": [],
   "source": [
    "c = array(norm_data_set)"
   ]
  },
  {
   "cell_type": "code",
   "execution_count": 49,
   "metadata": {
    "collapsed": false
   },
   "outputs": [
    {
     "data": {
      "text/plain": [
       "array([[ 0.44832535,  0.39805139,  0.56233353],\n",
       "       [ 0.15873259,  0.34195467,  0.98724416],\n",
       "       [ 0.28542943,  0.06892523,  0.47449629],\n",
       "       ..., \n",
       "       [ 0.29115949,  0.50910294,  0.51079493],\n",
       "       [ 0.52711097,  0.43665451,  0.4290048 ],\n",
       "       [ 0.47940793,  0.3768091 ,  0.78571804]])"
      ]
     },
     "execution_count": 49,
     "metadata": {},
     "output_type": "execute_result"
    }
   ],
   "source": [
    "c"
   ]
  },
  {
   "cell_type": "code",
   "execution_count": 52,
   "metadata": {
    "collapsed": false
   },
   "outputs": [
    {
     "data": {
      "text/plain": [
       "array([ 0.28542943,  0.06892523,  0.47449629])"
      ]
     },
     "execution_count": 52,
     "metadata": {},
     "output_type": "execute_result"
    }
   ],
   "source": [
    "c[2]"
   ]
  },
  {
   "cell_type": "code",
   "execution_count": 53,
   "metadata": {
    "collapsed": false
   },
   "outputs": [
    {
     "data": {
      "text/plain": [
       "array([ 0.15873259,  0.34195467,  0.98724416])"
      ]
     },
     "execution_count": 53,
     "metadata": {},
     "output_type": "execute_result"
    }
   ],
   "source": [
    "c[1, :]"
   ]
  },
  {
   "cell_type": "code",
   "execution_count": null,
   "metadata": {
    "collapsed": true
   },
   "outputs": [],
   "source": []
  },
  {
   "cell_type": "code",
   "execution_count": 66,
   "metadata": {
    "collapsed": false
   },
   "outputs": [
    {
     "name": "stderr",
     "output_type": "stream",
     "text": [
      "D:\\software\\anaconda\\lib\\site-packages\\ipykernel\\__main__.py:3: VisibleDeprecationWarning: using a non-integer number instead of an integer will result in an error in the future\n",
      "  app.launch_new_instance()\n"
     ]
    }
   ],
   "source": [
    "ratio = 0.3\n",
    "mat_len = c.shape[0]\n",
    "training_data = c[mat_len*ratio:mat_len, :]"
   ]
  },
  {
   "cell_type": "code",
   "execution_count": 71,
   "metadata": {
    "collapsed": false
   },
   "outputs": [],
   "source": [
    "diff_mat = np.tile(c[0], (training_data.shape[0], 1)) - training_data"
   ]
  },
  {
   "cell_type": "code",
   "execution_count": 73,
   "metadata": {
    "collapsed": false
   },
   "outputs": [
    {
     "data": {
      "text/plain": [
       "array([[ 0.38600681,  0.17627293, -0.3632514 ],\n",
       "       [ 0.04687038,  0.24750608,  0.18548763],\n",
       "       [ 0.12012315, -0.24283256, -0.40442503],\n",
       "       [-0.21287785,  0.10795307,  0.04291352],\n",
       "       [ 0.18802932, -0.05497523,  0.03243111]])"
      ]
     },
     "execution_count": 73,
     "metadata": {},
     "output_type": "execute_result"
    }
   ],
   "source": [
    "diff_mat[:5]"
   ]
  },
  {
   "cell_type": "code",
   "execution_count": 76,
   "metadata": {
    "collapsed": false
   },
   "outputs": [
    {
     "data": {
      "text/plain": [
       "array([ 0.31202499,  0.09786175,  0.23695683,  0.05881242,  0.03942908,\n",
       "        0.1263512 ,  0.1454731 ,  0.19331218,  0.11267154,  0.28346982,\n",
       "        0.15529245,  0.07486607,  0.22928558,  0.17766876,  0.45291371,\n",
       "        0.1950345 ,  0.03953504,  0.29254841,  0.1449671 ,  0.13406492,\n",
       "        0.06153016,  0.22193355,  0.0155082 ,  0.20564715,  0.20633244,\n",
       "        0.13746257,  0.19133863,  0.03638077,  0.16505111,  0.18146973,\n",
       "        0.22261873,  0.30041436,  0.2869055 ,  0.17198288,  0.0129991 ,\n",
       "        0.30353373,  0.32388379,  0.51096706,  0.35740092,  0.17673933,\n",
       "        0.20722593,  0.26794962,  0.36325887,  0.12286192,  0.31094697,\n",
       "        0.31813681,  0.29066106,  0.05038073,  0.16662912,  0.3867335 ,\n",
       "        0.2085364 ,  0.12846193,  0.18643264,  0.2585528 ,  0.33699329,\n",
       "        0.20692942,  0.40597841,  0.10648567,  0.1996147 ,  0.41717305,\n",
       "        0.70002779,  0.14492451,  0.01733333,  0.40652073,  0.16032142,\n",
       "        0.11223797,  0.07915574,  0.19457651,  0.10588356,  0.37675013,\n",
       "        0.12694723,  0.23916348,  0.10504043,  0.20847664,  0.11976794,\n",
       "        0.14947753,  0.04220966,  0.0323145 ,  0.24609096,  0.28311811,\n",
       "        0.37419536,  0.48343769,  0.23159402,  0.15316065,  0.34348721,\n",
       "        0.08308775,  0.24061652,  0.40822948,  0.11759047,  0.18229547,\n",
       "        0.12115509,  0.36332184,  0.24761812,  0.04864335,  0.12461903,\n",
       "        0.0869257 ,  0.33502072,  0.35757749,  0.39032372,  0.17865714,\n",
       "        0.16723653,  0.06151232,  0.13785901,  0.12629806,  0.05279744,\n",
       "        0.2655477 ,  0.04247573,  0.56515625,  0.07051056,  0.31275735,\n",
       "        0.2695967 ,  0.20455285,  0.07659147,  0.4053981 ,  0.00729779,\n",
       "        0.14119689,  0.18122993,  0.14847108,  0.04318648,  0.15409124,\n",
       "        0.10862622,  0.3177123 ,  0.08549083,  0.06749434,  0.11597348,\n",
       "        0.14170203,  0.22660073,  0.17447963,  0.18976572,  0.1289524 ,\n",
       "        0.21011395,  0.26590443,  0.39662709,  0.00375673,  0.45345934,\n",
       "        0.17254711,  0.15193213,  0.05186109,  0.2884882 ,  0.00611138,\n",
       "        0.2309746 ,  0.02299511,  0.09633618,  0.21229313,  0.18875852,\n",
       "        0.17768352,  0.02935024,  0.28052204,  0.10501158,  0.03995413,\n",
       "        0.23378422,  0.32100129,  0.10172515,  0.10934182,  0.10229309,\n",
       "        0.37067656,  0.11217855,  0.22582943,  0.37868722,  0.12339251,\n",
       "        0.11356109,  0.08457419,  0.21108852,  0.20433452,  0.11993494,\n",
       "        0.27783758,  0.30455384,  0.04879766,  0.05036453,  0.2724502 ,\n",
       "        0.07432782,  0.07811712,  0.04054263,  0.16939966,  0.04720133,\n",
       "        0.1093523 ,  0.1514701 ,  0.49096434,  0.13562474,  0.12650919,\n",
       "        0.1573207 ,  0.16089549,  0.23902161,  0.24104341,  0.17976808,\n",
       "        0.13902147,  0.00177402,  0.29959583,  0.22990244,  0.22866108,\n",
       "        0.13375608,  0.19079919,  0.2765834 ,  0.0928318 ,  0.10827928,\n",
       "        0.09956247,  0.28519503,  0.17032356,  0.12921057,  0.24533508,\n",
       "        0.07220402,  0.171015  ,  0.07744108,  0.39529964,  0.32598333,\n",
       "        0.3838722 ,  0.26481627,  0.41605496,  0.4026227 ,  0.16569651,\n",
       "        0.28762164,  0.1908163 ,  0.23011528,  0.12659554,  0.32664441,\n",
       "        0.18870636,  0.11839506,  0.35829526,  0.07133512,  0.22324683,\n",
       "        0.11961348,  0.04378196,  0.29096848,  0.09076491,  0.28164464,\n",
       "        0.20759286,  0.31085738,  0.34998188,  0.24532038,  0.14710345,\n",
       "        0.46748072,  0.43882291,  0.34458783,  0.22841245,  0.04570831,\n",
       "        0.39259464,  0.19240233,  0.34610755,  0.01332419,  0.43042346,\n",
       "        0.49266867,  0.30272662,  0.25215228,  0.11899622,  0.27738568,\n",
       "        0.0703    ,  0.28159541,  0.02536783,  0.29046083,  0.05731051,\n",
       "        0.09659432,  0.0553418 ,  0.19678083,  0.030454  ,  0.22201137,\n",
       "        0.38190905,  0.26641235,  0.23685584,  0.03084855,  0.28836248,\n",
       "        0.37802639,  0.24130095,  0.13019174,  0.22134295,  0.19218355,\n",
       "        0.21648647,  0.03267326,  0.1735039 ,  0.1018426 ,  0.14543106,\n",
       "        0.0519336 ,  0.37390353,  0.36869097,  0.28009197,  0.06195417,\n",
       "        0.19637422,  0.12676893,  0.15342916,  0.22129881,  0.14435343,\n",
       "        0.22017555,  0.30960721,  0.21486284,  0.02453592,  0.03279891,\n",
       "        0.02462457,  0.14606838,  0.58617044,  0.08057252,  0.12614715,\n",
       "        0.17937061,  0.26644015,  0.33427905,  0.31991772,  0.15584799,\n",
       "        0.30001464,  0.28425693,  0.25293771,  0.10097111,  0.21870938,\n",
       "        0.29636105,  0.19507578,  0.1015773 ,  0.34698793,  0.40026213,\n",
       "        0.1065607 ,  0.26057712,  0.39114533,  0.11895492,  0.05081115,\n",
       "        0.38584239,  0.19631744,  0.37797756,  0.48946286,  0.03574763,\n",
       "        0.31918721,  0.24088095,  0.14248502,  0.31925662,  0.0154518 ,\n",
       "        0.1096252 ,  0.18443882,  0.17597616,  0.16820176,  0.21481853,\n",
       "        0.29987547,  0.06283617,  0.10987389,  0.19695809,  0.01416569,\n",
       "        0.21897126,  0.07890214,  0.29237427,  0.24934783,  0.28769363,\n",
       "        0.24512272,  0.22997722,  0.074069  ,  0.21720417,  0.23458   ,\n",
       "        0.13347012,  0.46968149,  0.03700461,  0.29370081,  0.34938158,\n",
       "        0.12008732,  0.24929368,  0.20515344,  0.02730466,  0.05886286,\n",
       "        0.17793293,  0.22503135,  0.41972379,  0.15489919,  0.32326869,\n",
       "        0.20999756,  0.12264688,  0.25401708,  0.17133835,  0.06895409,\n",
       "        0.14065604,  0.41837133,  0.13345891,  0.17679629,  0.24753871,\n",
       "        0.28056802,  0.03492518,  0.16609428,  0.20869767,  0.13289702,\n",
       "        0.30173701,  0.22547331,  0.18816204,  0.23631069,  0.11046047,\n",
       "        0.12051388,  0.09780813,  0.04904769,  0.14376148,  0.46621963,\n",
       "        0.01092942,  0.09819852,  0.51411552,  0.1181376 ,  0.25336714,\n",
       "        0.17545109,  0.03918576,  0.15449448,  0.25862151,  0.36195115,\n",
       "        0.14150282,  0.10098826,  0.01426083,  0.32365416,  0.35370114,\n",
       "        0.12298277,  0.28960762,  0.23203137,  0.11769572,  0.32487408,\n",
       "        0.47465363,  0.01939367,  0.26672349,  0.14361592,  0.17002763,\n",
       "        0.49814582,  0.22765462,  0.0256641 ,  0.12570771,  0.22520547,\n",
       "        0.17872152,  0.08906562,  0.41799137,  0.18202238,  0.44499188,\n",
       "        0.33414953,  0.10475263,  0.23910851,  0.16476555,  0.25722925,\n",
       "        0.08475416,  0.20834536,  0.46955554,  0.0162823 ,  0.12550265,\n",
       "        0.06949057,  0.35607282,  0.17019114,  0.0149036 ,  0.35720895,\n",
       "        0.34792715,  0.02060599,  0.04931477,  0.24599314,  0.39427304,\n",
       "        0.33021231,  0.17931526,  0.21540526,  0.10386475,  0.32993396,\n",
       "        0.17922857,  0.00915181,  0.18699499,  0.30425461,  0.19644249,\n",
       "        0.20095878,  0.33676436,  0.15954451,  0.19457515,  0.20552149,\n",
       "        0.27980799,  0.207677  ,  0.0721604 ,  0.03839214,  0.28298281,\n",
       "        0.3178742 ,  0.0135985 ,  0.18446054,  0.29523232,  0.08755299,\n",
       "        0.32163727,  0.02162657,  0.16423368,  0.26354546,  0.20371834,\n",
       "        0.39993952,  0.07144595,  0.40878082,  0.01754401,  0.06954953,\n",
       "        0.22629168,  0.22604591,  0.18502349,  0.12804968,  0.22992337,\n",
       "        0.18557286,  0.24807879,  0.0795667 ,  0.24449921,  0.13374377,\n",
       "        0.14078611,  0.13934004,  0.23082784,  0.32068307,  0.23863028,\n",
       "        0.25097643,  0.39505015,  0.54942175,  0.22758134,  0.2686285 ,\n",
       "        0.28282506,  0.23109434,  0.32903941,  0.12344044,  0.10540822,\n",
       "        0.13560021,  0.14898893,  0.08330663,  0.33619299,  0.33833654,\n",
       "        0.1320351 ,  0.22457958,  0.14721067,  0.29612756,  0.14166313,\n",
       "        0.02621373,  0.24835431,  0.24491375,  0.04946491,  0.35605407,\n",
       "        0.01250057,  0.27731968,  0.1638016 ,  0.28940101,  0.12296705,\n",
       "        0.26674854,  0.17256416,  0.16028979,  0.44982695,  0.0646539 ,\n",
       "        0.18933194,  0.03544874,  0.21975721,  0.12551599,  0.19705169,\n",
       "        0.29440525,  0.18800208,  0.14314038,  0.20551306,  0.19334899,\n",
       "        0.07312645,  0.06454632,  0.2180188 ,  0.34496595,  0.06115412,\n",
       "        0.38381066,  0.2217163 ,  0.47115965,  0.28096726,  0.11681819,\n",
       "        0.06085468,  0.20075497,  0.10788731,  0.54797491,  0.25582404,\n",
       "        0.20310806,  0.1489733 ,  0.33806508,  0.139161  ,  0.07960239,\n",
       "        0.3362428 ,  0.12138983,  0.41702335,  0.32806683,  0.0266572 ,\n",
       "        0.17650914,  0.27390682,  0.30404675,  0.30560275,  0.15880006,\n",
       "        0.15966146,  0.27973236,  0.11240008,  0.3426044 ,  0.28894692,\n",
       "        0.00749588,  0.15496773,  0.22485269,  0.31395242,  0.22132744,\n",
       "        0.1102739 ,  0.02551421,  0.28297938,  0.13080163,  0.24712888,\n",
       "        0.28629943,  0.22421355,  0.35796648,  0.50514922,  0.48146048,\n",
       "        0.13862036,  0.28644696,  0.0691583 ,  0.03039883,  0.08003862,\n",
       "        0.19776889,  0.13916052,  0.48493332,  0.04054522,  0.27428758,\n",
       "        0.12117206,  0.22601549,  0.39450907,  0.23058198,  0.25377268,\n",
       "        0.22333794,  0.29897325,  0.38852313,  0.36790384,  0.12371634,\n",
       "        0.14623556,  0.23774151,  0.20185163,  0.48290451,  0.23421698,\n",
       "        0.24078423,  0.24603294,  0.30363326,  0.16491504,  0.20860584,\n",
       "        0.35800229,  0.42471301,  0.17158304,  0.07964091,  0.13445418,\n",
       "        0.00188773,  0.13793782,  0.12507527,  0.32212589,  0.07175775,\n",
       "        0.12594563,  0.12749304,  0.06325537,  0.34805377,  0.08428327,\n",
       "        0.24513151,  0.05820463,  0.09118293,  0.26533525,  0.25554851,\n",
       "        0.1168189 ,  0.26221856,  0.1048564 ,  0.16534647,  0.03123598,\n",
       "        0.19584676,  0.35033562,  0.13707463,  0.05166892,  0.02865114,\n",
       "        0.15019092,  0.11388561,  0.25963372,  0.28552807,  0.18972703,\n",
       "        0.24274393,  0.37309244,  0.39438218,  0.09272745,  0.1817441 ,\n",
       "        0.12644833,  0.14134745,  0.20114576,  0.40737867,  0.01594205,\n",
       "        0.29476922,  0.30374901,  0.32634625,  0.28862581,  0.20563202,\n",
       "        0.31548361,  0.17912096,  0.53091027,  0.3559116 ,  0.33742362,\n",
       "        0.31530359,  0.13262127,  0.01009568,  0.21587571,  0.03092879,\n",
       "        0.11898614,  0.06973745,  0.18458997,  0.25176607,  0.11429062,\n",
       "        0.23778185,  0.24537447,  0.19041388,  0.24516962,  0.51995973,\n",
       "        0.20152713,  0.56663402,  0.26438716,  0.17765447,  0.52432289,\n",
       "        0.32696071,  0.25002962,  0.30730709,  0.4417274 ,  0.07610804,\n",
       "        0.25815266,  0.28282379,  0.23917106,  0.30688615,  0.24715953,\n",
       "        0.19779231,  0.12794378,  0.03968978,  0.02547392,  0.051318  ])"
      ]
     },
     "execution_count": 76,
     "metadata": {},
     "output_type": "execute_result"
    }
   ],
   "source": [
    "np.sum(diff_mat ** 2, axis=1)"
   ]
  },
  {
   "cell_type": "code",
   "execution_count": 77,
   "metadata": {
    "collapsed": true
   },
   "outputs": [],
   "source": [
    "np.sum?"
   ]
  },
  {
   "cell_type": "code",
   "execution_count": 78,
   "metadata": {
    "collapsed": true
   },
   "outputs": [],
   "source": [
    "import math"
   ]
  },
  {
   "cell_type": "code",
   "execution_count": 79,
   "metadata": {
    "collapsed": false
   },
   "outputs": [
    {
     "data": {
      "text/plain": [
       "2.0"
      ]
     },
     "execution_count": 79,
     "metadata": {},
     "output_type": "execute_result"
    }
   ],
   "source": [
    "math.sqrt(4)"
   ]
  },
  {
   "cell_type": "code",
   "execution_count": null,
   "metadata": {
    "collapsed": true
   },
   "outputs": [],
   "source": []
  },
  {
   "cell_type": "code",
   "execution_count": 80,
   "metadata": {
    "collapsed": true
   },
   "outputs": [],
   "source": [
    "import os"
   ]
  },
  {
   "cell_type": "code",
   "execution_count": 92,
   "metadata": {
    "collapsed": true
   },
   "outputs": [],
   "source": [
    "def image_to_vector(file_name):\n",
    "    line_array = np.zeros((1, 1024))\n",
    "    with open(file_name) as f:\n",
    "        contents = f.readlines()\n",
    "    for line in contents:\n",
    "        index = contents.index(line)\n",
    "        for j in range(32):\n",
    "            line_array[0, 32 * index + j] = int(line[j])\n",
    "    return line_array"
   ]
  },
  {
   "cell_type": "code",
   "execution_count": 93,
   "metadata": {
    "collapsed": false
   },
   "outputs": [
    {
     "name": "stdout",
     "output_type": "stream",
     "text": [
      "00000000000001111000000000000000\n",
      "\n",
      "00000000000011111110000000000000\n",
      "\n",
      "00000000001111111111000000000000\n",
      "\n",
      "00000001111111111111100000000000\n",
      "\n",
      "00000001111111011111100000000000\n",
      "\n",
      "00000011111110000011110000000000\n",
      "\n",
      "00000011111110000000111000000000\n",
      "\n",
      "00000011111110000000111100000000\n",
      "\n",
      "00000011111110000000011100000000\n",
      "\n",
      "00000011111110000000011100000000\n",
      "\n",
      "00000011111100000000011110000000\n",
      "\n",
      "00000011111100000000001110000000\n",
      "\n",
      "00000011111100000000001110000000\n",
      "\n",
      "00000001111110000000000111000000\n",
      "\n",
      "00000001111110000000000111000000\n",
      "\n",
      "00000001111110000000000111000000\n",
      "\n",
      "00000001111110000000000111000000\n",
      "\n",
      "00000011111110000000001111000000\n",
      "\n",
      "00000011110110000000001111000000\n",
      "\n",
      "00000011110000000000011110000000\n",
      "\n",
      "00000001111000000000001111000000\n",
      "\n",
      "00000001111000000000011111000000\n",
      "\n",
      "00000001111000000000111110000000\n",
      "\n",
      "00000001111000000001111100000000\n",
      "\n",
      "00000000111000000111111000000000\n",
      "\n",
      "00000000111100011111110000000000\n",
      "\n",
      "00000000111111111111110000000000\n",
      "\n",
      "00000000011111111111110000000000\n",
      "\n",
      "00000000011111111111100000000000\n",
      "\n",
      "00000000001111111110000000000000\n",
      "\n",
      "00000000000111110000000000000000\n",
      "\n",
      "00000000000011000000000000000000\n",
      "\n"
     ]
    }
   ],
   "source": [
    "image_to_vector('digits/trainingDigits/0_0.txt')"
   ]
  },
  {
   "cell_type": "code",
   "execution_count": 84,
   "metadata": {
    "collapsed": false
   },
   "outputs": [
    {
     "data": {
      "text/plain": [
       "array([[ 0.,  0.,  0., ...,  0.,  0.,  0.]])"
      ]
     },
     "execution_count": 84,
     "metadata": {},
     "output_type": "execute_result"
    }
   ],
   "source": [
    "def img2vector(filename):\n",
    "    returnVect = zeros((1,1024))\n",
    "    fr = open(filename)\n",
    "    for i in range(32):\n",
    "        lineStr = fr.readline()\n",
    "        for j in range(32):\n",
    "            returnVect[0,32*i+j] = int(lineStr[j])\n",
    "    return returnVect\n",
    "returnVect = image_to_vector('digits/trainingDigits/0_0.txt')\n",
    "returnVect"
   ]
  },
  {
   "cell_type": "code",
   "execution_count": 86,
   "metadata": {
    "collapsed": false
   },
   "outputs": [
    {
     "data": {
      "text/plain": [
       "0.0"
      ]
     },
     "execution_count": 86,
     "metadata": {},
     "output_type": "execute_result"
    }
   ],
   "source": [
    "np.sum(line_array - returnVect)"
   ]
  },
  {
   "cell_type": "code",
   "execution_count": null,
   "metadata": {
    "collapsed": true
   },
   "outputs": [],
   "source": []
  }
 ],
 "metadata": {
  "kernelspec": {
   "display_name": "Python 2",
   "language": "python",
   "name": "python2"
  },
  "language_info": {
   "codemirror_mode": {
    "name": "ipython",
    "version": 2
   },
   "file_extension": ".py",
   "mimetype": "text/x-python",
   "name": "python",
   "nbconvert_exporter": "python",
   "pygments_lexer": "ipython2",
   "version": "2.7.13"
  }
 },
 "nbformat": 4,
 "nbformat_minor": 2
}
